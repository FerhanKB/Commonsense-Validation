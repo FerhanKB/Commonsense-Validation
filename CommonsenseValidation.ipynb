{
  "nbformat": 4,
  "nbformat_minor": 0,
  "metadata": {
    "colab": {
      "name": "AIProject.ipynb",
      "provenance": [],
      "collapsed_sections": []
    },
    "kernelspec": {
      "name": "python3",
      "display_name": "Python 3"
    },
    "accelerator": "GPU",
    "widgets": {
      "application/vnd.jupyter.widget-state+json": {
        "1751756097924c268198fb02237d20a4": {
          "model_module": "@jupyter-widgets/controls",
          "model_name": "HBoxModel",
          "state": {
            "_view_name": "HBoxView",
            "_dom_classes": [],
            "_model_name": "HBoxModel",
            "_view_module": "@jupyter-widgets/controls",
            "_model_module_version": "1.5.0",
            "_view_count": null,
            "_view_module_version": "1.5.0",
            "box_style": "",
            "layout": "IPY_MODEL_8a349e788ad74df2acbac05fb000d2c9",
            "_model_module": "@jupyter-widgets/controls",
            "children": [
              "IPY_MODEL_931000b07bec4b279a6b6d13f04c8c40",
              "IPY_MODEL_c7fa265dbf964611854e5246c575752c"
            ]
          }
        },
        "8a349e788ad74df2acbac05fb000d2c9": {
          "model_module": "@jupyter-widgets/base",
          "model_name": "LayoutModel",
          "state": {
            "_view_name": "LayoutView",
            "grid_template_rows": null,
            "right": null,
            "justify_content": null,
            "_view_module": "@jupyter-widgets/base",
            "overflow": null,
            "_model_module_version": "1.2.0",
            "_view_count": null,
            "flex_flow": null,
            "width": null,
            "min_width": null,
            "border": null,
            "align_items": null,
            "bottom": null,
            "_model_module": "@jupyter-widgets/base",
            "top": null,
            "grid_column": null,
            "overflow_y": null,
            "overflow_x": null,
            "grid_auto_flow": null,
            "grid_area": null,
            "grid_template_columns": null,
            "flex": null,
            "_model_name": "LayoutModel",
            "justify_items": null,
            "grid_row": null,
            "max_height": null,
            "align_content": null,
            "visibility": null,
            "align_self": null,
            "height": null,
            "min_height": null,
            "padding": null,
            "grid_auto_rows": null,
            "grid_gap": null,
            "max_width": null,
            "order": null,
            "_view_module_version": "1.2.0",
            "grid_template_areas": null,
            "object_position": null,
            "object_fit": null,
            "grid_auto_columns": null,
            "margin": null,
            "display": null,
            "left": null
          }
        },
        "931000b07bec4b279a6b6d13f04c8c40": {
          "model_module": "@jupyter-widgets/controls",
          "model_name": "FloatProgressModel",
          "state": {
            "_view_name": "ProgressView",
            "style": "IPY_MODEL_63f3e884f64c4e0b9612af34e3360b5f",
            "_dom_classes": [],
            "description": "Downloading: 100%",
            "_model_name": "FloatProgressModel",
            "bar_style": "success",
            "max": 656,
            "_view_module": "@jupyter-widgets/controls",
            "_model_module_version": "1.5.0",
            "value": 656,
            "_view_count": null,
            "_view_module_version": "1.5.0",
            "orientation": "horizontal",
            "min": 0,
            "description_tooltip": null,
            "_model_module": "@jupyter-widgets/controls",
            "layout": "IPY_MODEL_832ef5f885e14548a5f04f75b0791138"
          }
        },
        "c7fa265dbf964611854e5246c575752c": {
          "model_module": "@jupyter-widgets/controls",
          "model_name": "HTMLModel",
          "state": {
            "_view_name": "HTMLView",
            "style": "IPY_MODEL_581aa9171d3c490aa477df77d6777f58",
            "_dom_classes": [],
            "description": "",
            "_model_name": "HTMLModel",
            "placeholder": "​",
            "_view_module": "@jupyter-widgets/controls",
            "_model_module_version": "1.5.0",
            "value": " 656/656 [00:00&lt;00:00, 1.38kB/s]",
            "_view_count": null,
            "_view_module_version": "1.5.0",
            "description_tooltip": null,
            "_model_module": "@jupyter-widgets/controls",
            "layout": "IPY_MODEL_59a8ed419f92400188ea0dd64747fe70"
          }
        },
        "63f3e884f64c4e0b9612af34e3360b5f": {
          "model_module": "@jupyter-widgets/controls",
          "model_name": "ProgressStyleModel",
          "state": {
            "_view_name": "StyleView",
            "_model_name": "ProgressStyleModel",
            "description_width": "initial",
            "_view_module": "@jupyter-widgets/base",
            "_model_module_version": "1.5.0",
            "_view_count": null,
            "_view_module_version": "1.2.0",
            "bar_color": null,
            "_model_module": "@jupyter-widgets/controls"
          }
        },
        "832ef5f885e14548a5f04f75b0791138": {
          "model_module": "@jupyter-widgets/base",
          "model_name": "LayoutModel",
          "state": {
            "_view_name": "LayoutView",
            "grid_template_rows": null,
            "right": null,
            "justify_content": null,
            "_view_module": "@jupyter-widgets/base",
            "overflow": null,
            "_model_module_version": "1.2.0",
            "_view_count": null,
            "flex_flow": null,
            "width": null,
            "min_width": null,
            "border": null,
            "align_items": null,
            "bottom": null,
            "_model_module": "@jupyter-widgets/base",
            "top": null,
            "grid_column": null,
            "overflow_y": null,
            "overflow_x": null,
            "grid_auto_flow": null,
            "grid_area": null,
            "grid_template_columns": null,
            "flex": null,
            "_model_name": "LayoutModel",
            "justify_items": null,
            "grid_row": null,
            "max_height": null,
            "align_content": null,
            "visibility": null,
            "align_self": null,
            "height": null,
            "min_height": null,
            "padding": null,
            "grid_auto_rows": null,
            "grid_gap": null,
            "max_width": null,
            "order": null,
            "_view_module_version": "1.2.0",
            "grid_template_areas": null,
            "object_position": null,
            "object_fit": null,
            "grid_auto_columns": null,
            "margin": null,
            "display": null,
            "left": null
          }
        },
        "581aa9171d3c490aa477df77d6777f58": {
          "model_module": "@jupyter-widgets/controls",
          "model_name": "DescriptionStyleModel",
          "state": {
            "_view_name": "StyleView",
            "_model_name": "DescriptionStyleModel",
            "description_width": "",
            "_view_module": "@jupyter-widgets/base",
            "_model_module_version": "1.5.0",
            "_view_count": null,
            "_view_module_version": "1.2.0",
            "_model_module": "@jupyter-widgets/controls"
          }
        },
        "59a8ed419f92400188ea0dd64747fe70": {
          "model_module": "@jupyter-widgets/base",
          "model_name": "LayoutModel",
          "state": {
            "_view_name": "LayoutView",
            "grid_template_rows": null,
            "right": null,
            "justify_content": null,
            "_view_module": "@jupyter-widgets/base",
            "overflow": null,
            "_model_module_version": "1.2.0",
            "_view_count": null,
            "flex_flow": null,
            "width": null,
            "min_width": null,
            "border": null,
            "align_items": null,
            "bottom": null,
            "_model_module": "@jupyter-widgets/base",
            "top": null,
            "grid_column": null,
            "overflow_y": null,
            "overflow_x": null,
            "grid_auto_flow": null,
            "grid_area": null,
            "grid_template_columns": null,
            "flex": null,
            "_model_name": "LayoutModel",
            "justify_items": null,
            "grid_row": null,
            "max_height": null,
            "align_content": null,
            "visibility": null,
            "align_self": null,
            "height": null,
            "min_height": null,
            "padding": null,
            "grid_auto_rows": null,
            "grid_gap": null,
            "max_width": null,
            "order": null,
            "_view_module_version": "1.2.0",
            "grid_template_areas": null,
            "object_position": null,
            "object_fit": null,
            "grid_auto_columns": null,
            "margin": null,
            "display": null,
            "left": null
          }
        },
        "bcd8bc795fcc4d11878e491aba8bf083": {
          "model_module": "@jupyter-widgets/controls",
          "model_name": "HBoxModel",
          "state": {
            "_view_name": "HBoxView",
            "_dom_classes": [],
            "_model_name": "HBoxModel",
            "_view_module": "@jupyter-widgets/controls",
            "_model_module_version": "1.5.0",
            "_view_count": null,
            "_view_module_version": "1.5.0",
            "box_style": "",
            "layout": "IPY_MODEL_76703a703d5c49c396300e127448effd",
            "_model_module": "@jupyter-widgets/controls",
            "children": [
              "IPY_MODEL_30eb590bb9204cf4bc91330075862363",
              "IPY_MODEL_6e3fc591ae2a4f8b83ccaa9762745182"
            ]
          }
        },
        "76703a703d5c49c396300e127448effd": {
          "model_module": "@jupyter-widgets/base",
          "model_name": "LayoutModel",
          "state": {
            "_view_name": "LayoutView",
            "grid_template_rows": null,
            "right": null,
            "justify_content": null,
            "_view_module": "@jupyter-widgets/base",
            "overflow": null,
            "_model_module_version": "1.2.0",
            "_view_count": null,
            "flex_flow": null,
            "width": null,
            "min_width": null,
            "border": null,
            "align_items": null,
            "bottom": null,
            "_model_module": "@jupyter-widgets/base",
            "top": null,
            "grid_column": null,
            "overflow_y": null,
            "overflow_x": null,
            "grid_auto_flow": null,
            "grid_area": null,
            "grid_template_columns": null,
            "flex": null,
            "_model_name": "LayoutModel",
            "justify_items": null,
            "grid_row": null,
            "max_height": null,
            "align_content": null,
            "visibility": null,
            "align_self": null,
            "height": null,
            "min_height": null,
            "padding": null,
            "grid_auto_rows": null,
            "grid_gap": null,
            "max_width": null,
            "order": null,
            "_view_module_version": "1.2.0",
            "grid_template_areas": null,
            "object_position": null,
            "object_fit": null,
            "grid_auto_columns": null,
            "margin": null,
            "display": null,
            "left": null
          }
        },
        "30eb590bb9204cf4bc91330075862363": {
          "model_module": "@jupyter-widgets/controls",
          "model_name": "FloatProgressModel",
          "state": {
            "_view_name": "ProgressView",
            "style": "IPY_MODEL_495cea735de14fe1a0aaf9acb66d3223",
            "_dom_classes": [],
            "description": "Downloading: 100%",
            "_model_name": "FloatProgressModel",
            "bar_style": "success",
            "max": 478750579,
            "_view_module": "@jupyter-widgets/controls",
            "_model_module_version": "1.5.0",
            "value": 478750579,
            "_view_count": null,
            "_view_module_version": "1.5.0",
            "orientation": "horizontal",
            "min": 0,
            "description_tooltip": null,
            "_model_module": "@jupyter-widgets/controls",
            "layout": "IPY_MODEL_cd7a381897c041ca9569c6f98c1e5bf3"
          }
        },
        "6e3fc591ae2a4f8b83ccaa9762745182": {
          "model_module": "@jupyter-widgets/controls",
          "model_name": "HTMLModel",
          "state": {
            "_view_name": "HTMLView",
            "style": "IPY_MODEL_e25ede6098bd4078b5380f3ff9ed552c",
            "_dom_classes": [],
            "description": "",
            "_model_name": "HTMLModel",
            "placeholder": "​",
            "_view_module": "@jupyter-widgets/controls",
            "_model_module_version": "1.5.0",
            "value": " 479M/479M [01:05&lt;00:00, 7.27MB/s]",
            "_view_count": null,
            "_view_module_version": "1.5.0",
            "description_tooltip": null,
            "_model_module": "@jupyter-widgets/controls",
            "layout": "IPY_MODEL_d00e5e40d8df493c85cab1a73f786989"
          }
        },
        "495cea735de14fe1a0aaf9acb66d3223": {
          "model_module": "@jupyter-widgets/controls",
          "model_name": "ProgressStyleModel",
          "state": {
            "_view_name": "StyleView",
            "_model_name": "ProgressStyleModel",
            "description_width": "initial",
            "_view_module": "@jupyter-widgets/base",
            "_model_module_version": "1.5.0",
            "_view_count": null,
            "_view_module_version": "1.2.0",
            "bar_color": null,
            "_model_module": "@jupyter-widgets/controls"
          }
        },
        "cd7a381897c041ca9569c6f98c1e5bf3": {
          "model_module": "@jupyter-widgets/base",
          "model_name": "LayoutModel",
          "state": {
            "_view_name": "LayoutView",
            "grid_template_rows": null,
            "right": null,
            "justify_content": null,
            "_view_module": "@jupyter-widgets/base",
            "overflow": null,
            "_model_module_version": "1.2.0",
            "_view_count": null,
            "flex_flow": null,
            "width": null,
            "min_width": null,
            "border": null,
            "align_items": null,
            "bottom": null,
            "_model_module": "@jupyter-widgets/base",
            "top": null,
            "grid_column": null,
            "overflow_y": null,
            "overflow_x": null,
            "grid_auto_flow": null,
            "grid_area": null,
            "grid_template_columns": null,
            "flex": null,
            "_model_name": "LayoutModel",
            "justify_items": null,
            "grid_row": null,
            "max_height": null,
            "align_content": null,
            "visibility": null,
            "align_self": null,
            "height": null,
            "min_height": null,
            "padding": null,
            "grid_auto_rows": null,
            "grid_gap": null,
            "max_width": null,
            "order": null,
            "_view_module_version": "1.2.0",
            "grid_template_areas": null,
            "object_position": null,
            "object_fit": null,
            "grid_auto_columns": null,
            "margin": null,
            "display": null,
            "left": null
          }
        },
        "e25ede6098bd4078b5380f3ff9ed552c": {
          "model_module": "@jupyter-widgets/controls",
          "model_name": "DescriptionStyleModel",
          "state": {
            "_view_name": "StyleView",
            "_model_name": "DescriptionStyleModel",
            "description_width": "",
            "_view_module": "@jupyter-widgets/base",
            "_model_module_version": "1.5.0",
            "_view_count": null,
            "_view_module_version": "1.2.0",
            "_model_module": "@jupyter-widgets/controls"
          }
        },
        "d00e5e40d8df493c85cab1a73f786989": {
          "model_module": "@jupyter-widgets/base",
          "model_name": "LayoutModel",
          "state": {
            "_view_name": "LayoutView",
            "grid_template_rows": null,
            "right": null,
            "justify_content": null,
            "_view_module": "@jupyter-widgets/base",
            "overflow": null,
            "_model_module_version": "1.2.0",
            "_view_count": null,
            "flex_flow": null,
            "width": null,
            "min_width": null,
            "border": null,
            "align_items": null,
            "bottom": null,
            "_model_module": "@jupyter-widgets/base",
            "top": null,
            "grid_column": null,
            "overflow_y": null,
            "overflow_x": null,
            "grid_auto_flow": null,
            "grid_area": null,
            "grid_template_columns": null,
            "flex": null,
            "_model_name": "LayoutModel",
            "justify_items": null,
            "grid_row": null,
            "max_height": null,
            "align_content": null,
            "visibility": null,
            "align_self": null,
            "height": null,
            "min_height": null,
            "padding": null,
            "grid_auto_rows": null,
            "grid_gap": null,
            "max_width": null,
            "order": null,
            "_view_module_version": "1.2.0",
            "grid_template_areas": null,
            "object_position": null,
            "object_fit": null,
            "grid_auto_columns": null,
            "margin": null,
            "display": null,
            "left": null
          }
        },
        "fe8a0f6d9cfa4e92bd4488c3bb7638ff": {
          "model_module": "@jupyter-widgets/controls",
          "model_name": "HBoxModel",
          "state": {
            "_view_name": "HBoxView",
            "_dom_classes": [],
            "_model_name": "HBoxModel",
            "_view_module": "@jupyter-widgets/controls",
            "_model_module_version": "1.5.0",
            "_view_count": null,
            "_view_module_version": "1.5.0",
            "box_style": "",
            "layout": "IPY_MODEL_9400b87393944001a453d893c2d3e977",
            "_model_module": "@jupyter-widgets/controls",
            "children": [
              "IPY_MODEL_d69cbba44f5a420eb30b35adfb1a8705",
              "IPY_MODEL_3892f2b0063649ccbe9517557b3dd423"
            ]
          }
        },
        "9400b87393944001a453d893c2d3e977": {
          "model_module": "@jupyter-widgets/base",
          "model_name": "LayoutModel",
          "state": {
            "_view_name": "LayoutView",
            "grid_template_rows": null,
            "right": null,
            "justify_content": null,
            "_view_module": "@jupyter-widgets/base",
            "overflow": null,
            "_model_module_version": "1.2.0",
            "_view_count": null,
            "flex_flow": null,
            "width": null,
            "min_width": null,
            "border": null,
            "align_items": null,
            "bottom": null,
            "_model_module": "@jupyter-widgets/base",
            "top": null,
            "grid_column": null,
            "overflow_y": null,
            "overflow_x": null,
            "grid_auto_flow": null,
            "grid_area": null,
            "grid_template_columns": null,
            "flex": null,
            "_model_name": "LayoutModel",
            "justify_items": null,
            "grid_row": null,
            "max_height": null,
            "align_content": null,
            "visibility": null,
            "align_self": null,
            "height": null,
            "min_height": null,
            "padding": null,
            "grid_auto_rows": null,
            "grid_gap": null,
            "max_width": null,
            "order": null,
            "_view_module_version": "1.2.0",
            "grid_template_areas": null,
            "object_position": null,
            "object_fit": null,
            "grid_auto_columns": null,
            "margin": null,
            "display": null,
            "left": null
          }
        },
        "d69cbba44f5a420eb30b35adfb1a8705": {
          "model_module": "@jupyter-widgets/controls",
          "model_name": "FloatProgressModel",
          "state": {
            "_view_name": "ProgressView",
            "style": "IPY_MODEL_1d01cb0996e04a57aeba3be41bbfe3c9",
            "_dom_classes": [],
            "description": "Downloading: 100%",
            "_model_name": "FloatProgressModel",
            "bar_style": "success",
            "max": 815973,
            "_view_module": "@jupyter-widgets/controls",
            "_model_module_version": "1.5.0",
            "value": 815973,
            "_view_count": null,
            "_view_module_version": "1.5.0",
            "orientation": "horizontal",
            "min": 0,
            "description_tooltip": null,
            "_model_module": "@jupyter-widgets/controls",
            "layout": "IPY_MODEL_4a1eb96204814eb3845742952e57ea4c"
          }
        },
        "3892f2b0063649ccbe9517557b3dd423": {
          "model_module": "@jupyter-widgets/controls",
          "model_name": "HTMLModel",
          "state": {
            "_view_name": "HTMLView",
            "style": "IPY_MODEL_39f4ce467afe4239b149bb63205f2e45",
            "_dom_classes": [],
            "description": "",
            "_model_name": "HTMLModel",
            "placeholder": "​",
            "_view_module": "@jupyter-widgets/controls",
            "_model_module_version": "1.5.0",
            "value": " 816k/816k [00:01&lt;00:00, 735kB/s]",
            "_view_count": null,
            "_view_module_version": "1.5.0",
            "description_tooltip": null,
            "_model_module": "@jupyter-widgets/controls",
            "layout": "IPY_MODEL_66d28c573221491fb0a47a5c53a8b8ff"
          }
        },
        "1d01cb0996e04a57aeba3be41bbfe3c9": {
          "model_module": "@jupyter-widgets/controls",
          "model_name": "ProgressStyleModel",
          "state": {
            "_view_name": "StyleView",
            "_model_name": "ProgressStyleModel",
            "description_width": "initial",
            "_view_module": "@jupyter-widgets/base",
            "_model_module_version": "1.5.0",
            "_view_count": null,
            "_view_module_version": "1.2.0",
            "bar_color": null,
            "_model_module": "@jupyter-widgets/controls"
          }
        },
        "4a1eb96204814eb3845742952e57ea4c": {
          "model_module": "@jupyter-widgets/base",
          "model_name": "LayoutModel",
          "state": {
            "_view_name": "LayoutView",
            "grid_template_rows": null,
            "right": null,
            "justify_content": null,
            "_view_module": "@jupyter-widgets/base",
            "overflow": null,
            "_model_module_version": "1.2.0",
            "_view_count": null,
            "flex_flow": null,
            "width": null,
            "min_width": null,
            "border": null,
            "align_items": null,
            "bottom": null,
            "_model_module": "@jupyter-widgets/base",
            "top": null,
            "grid_column": null,
            "overflow_y": null,
            "overflow_x": null,
            "grid_auto_flow": null,
            "grid_area": null,
            "grid_template_columns": null,
            "flex": null,
            "_model_name": "LayoutModel",
            "justify_items": null,
            "grid_row": null,
            "max_height": null,
            "align_content": null,
            "visibility": null,
            "align_self": null,
            "height": null,
            "min_height": null,
            "padding": null,
            "grid_auto_rows": null,
            "grid_gap": null,
            "max_width": null,
            "order": null,
            "_view_module_version": "1.2.0",
            "grid_template_areas": null,
            "object_position": null,
            "object_fit": null,
            "grid_auto_columns": null,
            "margin": null,
            "display": null,
            "left": null
          }
        },
        "39f4ce467afe4239b149bb63205f2e45": {
          "model_module": "@jupyter-widgets/controls",
          "model_name": "DescriptionStyleModel",
          "state": {
            "_view_name": "StyleView",
            "_model_name": "DescriptionStyleModel",
            "description_width": "",
            "_view_module": "@jupyter-widgets/base",
            "_model_module_version": "1.5.0",
            "_view_count": null,
            "_view_module_version": "1.2.0",
            "_model_module": "@jupyter-widgets/controls"
          }
        },
        "66d28c573221491fb0a47a5c53a8b8ff": {
          "model_module": "@jupyter-widgets/base",
          "model_name": "LayoutModel",
          "state": {
            "_view_name": "LayoutView",
            "grid_template_rows": null,
            "right": null,
            "justify_content": null,
            "_view_module": "@jupyter-widgets/base",
            "overflow": null,
            "_model_module_version": "1.2.0",
            "_view_count": null,
            "flex_flow": null,
            "width": null,
            "min_width": null,
            "border": null,
            "align_items": null,
            "bottom": null,
            "_model_module": "@jupyter-widgets/base",
            "top": null,
            "grid_column": null,
            "overflow_y": null,
            "overflow_x": null,
            "grid_auto_flow": null,
            "grid_area": null,
            "grid_template_columns": null,
            "flex": null,
            "_model_name": "LayoutModel",
            "justify_items": null,
            "grid_row": null,
            "max_height": null,
            "align_content": null,
            "visibility": null,
            "align_self": null,
            "height": null,
            "min_height": null,
            "padding": null,
            "grid_auto_rows": null,
            "grid_gap": null,
            "max_width": null,
            "order": null,
            "_view_module_version": "1.2.0",
            "grid_template_areas": null,
            "object_position": null,
            "object_fit": null,
            "grid_auto_columns": null,
            "margin": null,
            "display": null,
            "left": null
          }
        },
        "77c53b093bc341e69db158b5f060fb60": {
          "model_module": "@jupyter-widgets/controls",
          "model_name": "HBoxModel",
          "state": {
            "_view_name": "HBoxView",
            "_dom_classes": [],
            "_model_name": "HBoxModel",
            "_view_module": "@jupyter-widgets/controls",
            "_model_module_version": "1.5.0",
            "_view_count": null,
            "_view_module_version": "1.5.0",
            "box_style": "",
            "layout": "IPY_MODEL_93c8d3fb98384569bc15044fc504097e",
            "_model_module": "@jupyter-widgets/controls",
            "children": [
              "IPY_MODEL_270d2e71cff94903b50c53b8ad2d1948",
              "IPY_MODEL_2dc78c9155b24a2cb4ae267c3f7eeeca"
            ]
          }
        },
        "93c8d3fb98384569bc15044fc504097e": {
          "model_module": "@jupyter-widgets/base",
          "model_name": "LayoutModel",
          "state": {
            "_view_name": "LayoutView",
            "grid_template_rows": null,
            "right": null,
            "justify_content": null,
            "_view_module": "@jupyter-widgets/base",
            "overflow": null,
            "_model_module_version": "1.2.0",
            "_view_count": null,
            "flex_flow": null,
            "width": null,
            "min_width": null,
            "border": null,
            "align_items": null,
            "bottom": null,
            "_model_module": "@jupyter-widgets/base",
            "top": null,
            "grid_column": null,
            "overflow_y": null,
            "overflow_x": null,
            "grid_auto_flow": null,
            "grid_area": null,
            "grid_template_columns": null,
            "flex": null,
            "_model_name": "LayoutModel",
            "justify_items": null,
            "grid_row": null,
            "max_height": null,
            "align_content": null,
            "visibility": null,
            "align_self": null,
            "height": null,
            "min_height": null,
            "padding": null,
            "grid_auto_rows": null,
            "grid_gap": null,
            "max_width": null,
            "order": null,
            "_view_module_version": "1.2.0",
            "grid_template_areas": null,
            "object_position": null,
            "object_fit": null,
            "grid_auto_columns": null,
            "margin": null,
            "display": null,
            "left": null
          }
        },
        "270d2e71cff94903b50c53b8ad2d1948": {
          "model_module": "@jupyter-widgets/controls",
          "model_name": "FloatProgressModel",
          "state": {
            "_view_name": "ProgressView",
            "style": "IPY_MODEL_008236a161ae43e68f94ad5698cd2590",
            "_dom_classes": [],
            "description": "Downloading: 100%",
            "_model_name": "FloatProgressModel",
            "bar_style": "success",
            "max": 458495,
            "_view_module": "@jupyter-widgets/controls",
            "_model_module_version": "1.5.0",
            "value": 458495,
            "_view_count": null,
            "_view_module_version": "1.5.0",
            "orientation": "horizontal",
            "min": 0,
            "description_tooltip": null,
            "_model_module": "@jupyter-widgets/controls",
            "layout": "IPY_MODEL_a7a0f174780243c9b9d00c8fffa97907"
          }
        },
        "2dc78c9155b24a2cb4ae267c3f7eeeca": {
          "model_module": "@jupyter-widgets/controls",
          "model_name": "HTMLModel",
          "state": {
            "_view_name": "HTMLView",
            "style": "IPY_MODEL_5f34dc39af0049dd9fc9ba49b949936f",
            "_dom_classes": [],
            "description": "",
            "_model_name": "HTMLModel",
            "placeholder": "​",
            "_view_module": "@jupyter-widgets/controls",
            "_model_module_version": "1.5.0",
            "value": " 458k/458k [00:00&lt;00:00, 1.30MB/s]",
            "_view_count": null,
            "_view_module_version": "1.5.0",
            "description_tooltip": null,
            "_model_module": "@jupyter-widgets/controls",
            "layout": "IPY_MODEL_77df0524e52b4f64ac5b64be54fbfd3a"
          }
        },
        "008236a161ae43e68f94ad5698cd2590": {
          "model_module": "@jupyter-widgets/controls",
          "model_name": "ProgressStyleModel",
          "state": {
            "_view_name": "StyleView",
            "_model_name": "ProgressStyleModel",
            "description_width": "initial",
            "_view_module": "@jupyter-widgets/base",
            "_model_module_version": "1.5.0",
            "_view_count": null,
            "_view_module_version": "1.2.0",
            "bar_color": null,
            "_model_module": "@jupyter-widgets/controls"
          }
        },
        "a7a0f174780243c9b9d00c8fffa97907": {
          "model_module": "@jupyter-widgets/base",
          "model_name": "LayoutModel",
          "state": {
            "_view_name": "LayoutView",
            "grid_template_rows": null,
            "right": null,
            "justify_content": null,
            "_view_module": "@jupyter-widgets/base",
            "overflow": null,
            "_model_module_version": "1.2.0",
            "_view_count": null,
            "flex_flow": null,
            "width": null,
            "min_width": null,
            "border": null,
            "align_items": null,
            "bottom": null,
            "_model_module": "@jupyter-widgets/base",
            "top": null,
            "grid_column": null,
            "overflow_y": null,
            "overflow_x": null,
            "grid_auto_flow": null,
            "grid_area": null,
            "grid_template_columns": null,
            "flex": null,
            "_model_name": "LayoutModel",
            "justify_items": null,
            "grid_row": null,
            "max_height": null,
            "align_content": null,
            "visibility": null,
            "align_self": null,
            "height": null,
            "min_height": null,
            "padding": null,
            "grid_auto_rows": null,
            "grid_gap": null,
            "max_width": null,
            "order": null,
            "_view_module_version": "1.2.0",
            "grid_template_areas": null,
            "object_position": null,
            "object_fit": null,
            "grid_auto_columns": null,
            "margin": null,
            "display": null,
            "left": null
          }
        },
        "5f34dc39af0049dd9fc9ba49b949936f": {
          "model_module": "@jupyter-widgets/controls",
          "model_name": "DescriptionStyleModel",
          "state": {
            "_view_name": "StyleView",
            "_model_name": "DescriptionStyleModel",
            "description_width": "",
            "_view_module": "@jupyter-widgets/base",
            "_model_module_version": "1.5.0",
            "_view_count": null,
            "_view_module_version": "1.2.0",
            "_model_module": "@jupyter-widgets/controls"
          }
        },
        "77df0524e52b4f64ac5b64be54fbfd3a": {
          "model_module": "@jupyter-widgets/base",
          "model_name": "LayoutModel",
          "state": {
            "_view_name": "LayoutView",
            "grid_template_rows": null,
            "right": null,
            "justify_content": null,
            "_view_module": "@jupyter-widgets/base",
            "overflow": null,
            "_model_module_version": "1.2.0",
            "_view_count": null,
            "flex_flow": null,
            "width": null,
            "min_width": null,
            "border": null,
            "align_items": null,
            "bottom": null,
            "_model_module": "@jupyter-widgets/base",
            "top": null,
            "grid_column": null,
            "overflow_y": null,
            "overflow_x": null,
            "grid_auto_flow": null,
            "grid_area": null,
            "grid_template_columns": null,
            "flex": null,
            "_model_name": "LayoutModel",
            "justify_items": null,
            "grid_row": null,
            "max_height": null,
            "align_content": null,
            "visibility": null,
            "align_self": null,
            "height": null,
            "min_height": null,
            "padding": null,
            "grid_auto_rows": null,
            "grid_gap": null,
            "max_width": null,
            "order": null,
            "_view_module_version": "1.2.0",
            "grid_template_areas": null,
            "object_position": null,
            "object_fit": null,
            "grid_auto_columns": null,
            "margin": null,
            "display": null,
            "left": null
          }
        },
        "c489498bd8f4472f85fecdd71dfc4250": {
          "model_module": "@jupyter-widgets/controls",
          "model_name": "HBoxModel",
          "state": {
            "_view_name": "HBoxView",
            "_dom_classes": [],
            "_model_name": "HBoxModel",
            "_view_module": "@jupyter-widgets/controls",
            "_model_module_version": "1.5.0",
            "_view_count": null,
            "_view_module_version": "1.5.0",
            "box_style": "",
            "layout": "IPY_MODEL_d7b6291ea1c341e58ae937e971cf2436",
            "_model_module": "@jupyter-widgets/controls",
            "children": [
              "IPY_MODEL_fd12f6035e1b4a48868ac82fd762b513",
              "IPY_MODEL_d2e6fc9686f4438e960d195aa6796cc7"
            ]
          }
        },
        "d7b6291ea1c341e58ae937e971cf2436": {
          "model_module": "@jupyter-widgets/base",
          "model_name": "LayoutModel",
          "state": {
            "_view_name": "LayoutView",
            "grid_template_rows": null,
            "right": null,
            "justify_content": null,
            "_view_module": "@jupyter-widgets/base",
            "overflow": null,
            "_model_module_version": "1.2.0",
            "_view_count": null,
            "flex_flow": null,
            "width": null,
            "min_width": null,
            "border": null,
            "align_items": null,
            "bottom": null,
            "_model_module": "@jupyter-widgets/base",
            "top": null,
            "grid_column": null,
            "overflow_y": null,
            "overflow_x": null,
            "grid_auto_flow": null,
            "grid_area": null,
            "grid_template_columns": null,
            "flex": null,
            "_model_name": "LayoutModel",
            "justify_items": null,
            "grid_row": null,
            "max_height": null,
            "align_content": null,
            "visibility": null,
            "align_self": null,
            "height": null,
            "min_height": null,
            "padding": null,
            "grid_auto_rows": null,
            "grid_gap": null,
            "max_width": null,
            "order": null,
            "_view_module_version": "1.2.0",
            "grid_template_areas": null,
            "object_position": null,
            "object_fit": null,
            "grid_auto_columns": null,
            "margin": null,
            "display": null,
            "left": null
          }
        },
        "fd12f6035e1b4a48868ac82fd762b513": {
          "model_module": "@jupyter-widgets/controls",
          "model_name": "FloatProgressModel",
          "state": {
            "_view_name": "ProgressView",
            "style": "IPY_MODEL_af1130fed731468ca7352e4432c4732c",
            "_dom_classes": [],
            "description": "Downloading: 100%",
            "_model_name": "FloatProgressModel",
            "bar_style": "success",
            "max": 231508,
            "_view_module": "@jupyter-widgets/controls",
            "_model_module_version": "1.5.0",
            "value": 231508,
            "_view_count": null,
            "_view_module_version": "1.5.0",
            "orientation": "horizontal",
            "min": 0,
            "description_tooltip": null,
            "_model_module": "@jupyter-widgets/controls",
            "layout": "IPY_MODEL_8bef0f5e121e4928866041881cad435f"
          }
        },
        "d2e6fc9686f4438e960d195aa6796cc7": {
          "model_module": "@jupyter-widgets/controls",
          "model_name": "HTMLModel",
          "state": {
            "_view_name": "HTMLView",
            "style": "IPY_MODEL_425af7dfe44d463d9f794328a9e2da1b",
            "_dom_classes": [],
            "description": "",
            "_model_name": "HTMLModel",
            "placeholder": "​",
            "_view_module": "@jupyter-widgets/controls",
            "_model_module_version": "1.5.0",
            "value": " 232k/232k [00:00&lt;00:00, 786kB/s]",
            "_view_count": null,
            "_view_module_version": "1.5.0",
            "description_tooltip": null,
            "_model_module": "@jupyter-widgets/controls",
            "layout": "IPY_MODEL_56e3e503337b467da2dc203044489e39"
          }
        },
        "af1130fed731468ca7352e4432c4732c": {
          "model_module": "@jupyter-widgets/controls",
          "model_name": "ProgressStyleModel",
          "state": {
            "_view_name": "StyleView",
            "_model_name": "ProgressStyleModel",
            "description_width": "initial",
            "_view_module": "@jupyter-widgets/base",
            "_model_module_version": "1.5.0",
            "_view_count": null,
            "_view_module_version": "1.2.0",
            "bar_color": null,
            "_model_module": "@jupyter-widgets/controls"
          }
        },
        "8bef0f5e121e4928866041881cad435f": {
          "model_module": "@jupyter-widgets/base",
          "model_name": "LayoutModel",
          "state": {
            "_view_name": "LayoutView",
            "grid_template_rows": null,
            "right": null,
            "justify_content": null,
            "_view_module": "@jupyter-widgets/base",
            "overflow": null,
            "_model_module_version": "1.2.0",
            "_view_count": null,
            "flex_flow": null,
            "width": null,
            "min_width": null,
            "border": null,
            "align_items": null,
            "bottom": null,
            "_model_module": "@jupyter-widgets/base",
            "top": null,
            "grid_column": null,
            "overflow_y": null,
            "overflow_x": null,
            "grid_auto_flow": null,
            "grid_area": null,
            "grid_template_columns": null,
            "flex": null,
            "_model_name": "LayoutModel",
            "justify_items": null,
            "grid_row": null,
            "max_height": null,
            "align_content": null,
            "visibility": null,
            "align_self": null,
            "height": null,
            "min_height": null,
            "padding": null,
            "grid_auto_rows": null,
            "grid_gap": null,
            "max_width": null,
            "order": null,
            "_view_module_version": "1.2.0",
            "grid_template_areas": null,
            "object_position": null,
            "object_fit": null,
            "grid_auto_columns": null,
            "margin": null,
            "display": null,
            "left": null
          }
        },
        "425af7dfe44d463d9f794328a9e2da1b": {
          "model_module": "@jupyter-widgets/controls",
          "model_name": "DescriptionStyleModel",
          "state": {
            "_view_name": "StyleView",
            "_model_name": "DescriptionStyleModel",
            "description_width": "",
            "_view_module": "@jupyter-widgets/base",
            "_model_module_version": "1.5.0",
            "_view_count": null,
            "_view_module_version": "1.2.0",
            "_model_module": "@jupyter-widgets/controls"
          }
        },
        "56e3e503337b467da2dc203044489e39": {
          "model_module": "@jupyter-widgets/base",
          "model_name": "LayoutModel",
          "state": {
            "_view_name": "LayoutView",
            "grid_template_rows": null,
            "right": null,
            "justify_content": null,
            "_view_module": "@jupyter-widgets/base",
            "overflow": null,
            "_model_module_version": "1.2.0",
            "_view_count": null,
            "flex_flow": null,
            "width": null,
            "min_width": null,
            "border": null,
            "align_items": null,
            "bottom": null,
            "_model_module": "@jupyter-widgets/base",
            "top": null,
            "grid_column": null,
            "overflow_y": null,
            "overflow_x": null,
            "grid_auto_flow": null,
            "grid_area": null,
            "grid_template_columns": null,
            "flex": null,
            "_model_name": "LayoutModel",
            "justify_items": null,
            "grid_row": null,
            "max_height": null,
            "align_content": null,
            "visibility": null,
            "align_self": null,
            "height": null,
            "min_height": null,
            "padding": null,
            "grid_auto_rows": null,
            "grid_gap": null,
            "max_width": null,
            "order": null,
            "_view_module_version": "1.2.0",
            "grid_template_areas": null,
            "object_position": null,
            "object_fit": null,
            "grid_auto_columns": null,
            "margin": null,
            "display": null,
            "left": null
          }
        },
        "8fd995efbf6e4e0d8ca881f62170164b": {
          "model_module": "@jupyter-widgets/controls",
          "model_name": "HBoxModel",
          "state": {
            "_view_name": "HBoxView",
            "_dom_classes": [],
            "_model_name": "HBoxModel",
            "_view_module": "@jupyter-widgets/controls",
            "_model_module_version": "1.5.0",
            "_view_count": null,
            "_view_module_version": "1.5.0",
            "box_style": "",
            "layout": "IPY_MODEL_bfaec69bcaf44068b31b41f26e4d8d26",
            "_model_module": "@jupyter-widgets/controls",
            "children": [
              "IPY_MODEL_23e2daebb0a44018a894cf84a9b34c16",
              "IPY_MODEL_80ac074d637441eda67b73f3ba54e6fc"
            ]
          }
        },
        "bfaec69bcaf44068b31b41f26e4d8d26": {
          "model_module": "@jupyter-widgets/base",
          "model_name": "LayoutModel",
          "state": {
            "_view_name": "LayoutView",
            "grid_template_rows": null,
            "right": null,
            "justify_content": null,
            "_view_module": "@jupyter-widgets/base",
            "overflow": null,
            "_model_module_version": "1.2.0",
            "_view_count": null,
            "flex_flow": null,
            "width": null,
            "min_width": null,
            "border": null,
            "align_items": null,
            "bottom": null,
            "_model_module": "@jupyter-widgets/base",
            "top": null,
            "grid_column": null,
            "overflow_y": null,
            "overflow_x": null,
            "grid_auto_flow": null,
            "grid_area": null,
            "grid_template_columns": null,
            "flex": null,
            "_model_name": "LayoutModel",
            "justify_items": null,
            "grid_row": null,
            "max_height": null,
            "align_content": null,
            "visibility": null,
            "align_self": null,
            "height": null,
            "min_height": null,
            "padding": null,
            "grid_auto_rows": null,
            "grid_gap": null,
            "max_width": null,
            "order": null,
            "_view_module_version": "1.2.0",
            "grid_template_areas": null,
            "object_position": null,
            "object_fit": null,
            "grid_auto_columns": null,
            "margin": null,
            "display": null,
            "left": null
          }
        },
        "23e2daebb0a44018a894cf84a9b34c16": {
          "model_module": "@jupyter-widgets/controls",
          "model_name": "FloatProgressModel",
          "state": {
            "_view_name": "ProgressView",
            "style": "IPY_MODEL_a06ffa99bb13463d91c51b72e25990ba",
            "_dom_classes": [],
            "description": "Downloading: 100%",
            "_model_name": "FloatProgressModel",
            "bar_style": "success",
            "max": 434,
            "_view_module": "@jupyter-widgets/controls",
            "_model_module_version": "1.5.0",
            "value": 434,
            "_view_count": null,
            "_view_module_version": "1.5.0",
            "orientation": "horizontal",
            "min": 0,
            "description_tooltip": null,
            "_model_module": "@jupyter-widgets/controls",
            "layout": "IPY_MODEL_18c14eb5fb1b4759ab4a79962d65a0d0"
          }
        },
        "80ac074d637441eda67b73f3ba54e6fc": {
          "model_module": "@jupyter-widgets/controls",
          "model_name": "HTMLModel",
          "state": {
            "_view_name": "HTMLView",
            "style": "IPY_MODEL_f4e7a32dfcba46f698fa4aa7a25030f8",
            "_dom_classes": [],
            "description": "",
            "_model_name": "HTMLModel",
            "placeholder": "​",
            "_view_module": "@jupyter-widgets/controls",
            "_model_module_version": "1.5.0",
            "value": " 434/434 [00:37&lt;00:00, 11.6B/s]",
            "_view_count": null,
            "_view_module_version": "1.5.0",
            "description_tooltip": null,
            "_model_module": "@jupyter-widgets/controls",
            "layout": "IPY_MODEL_9948396e87e24f1abb13f4598e9803f5"
          }
        },
        "a06ffa99bb13463d91c51b72e25990ba": {
          "model_module": "@jupyter-widgets/controls",
          "model_name": "ProgressStyleModel",
          "state": {
            "_view_name": "StyleView",
            "_model_name": "ProgressStyleModel",
            "description_width": "initial",
            "_view_module": "@jupyter-widgets/base",
            "_model_module_version": "1.5.0",
            "_view_count": null,
            "_view_module_version": "1.2.0",
            "bar_color": null,
            "_model_module": "@jupyter-widgets/controls"
          }
        },
        "18c14eb5fb1b4759ab4a79962d65a0d0": {
          "model_module": "@jupyter-widgets/base",
          "model_name": "LayoutModel",
          "state": {
            "_view_name": "LayoutView",
            "grid_template_rows": null,
            "right": null,
            "justify_content": null,
            "_view_module": "@jupyter-widgets/base",
            "overflow": null,
            "_model_module_version": "1.2.0",
            "_view_count": null,
            "flex_flow": null,
            "width": null,
            "min_width": null,
            "border": null,
            "align_items": null,
            "bottom": null,
            "_model_module": "@jupyter-widgets/base",
            "top": null,
            "grid_column": null,
            "overflow_y": null,
            "overflow_x": null,
            "grid_auto_flow": null,
            "grid_area": null,
            "grid_template_columns": null,
            "flex": null,
            "_model_name": "LayoutModel",
            "justify_items": null,
            "grid_row": null,
            "max_height": null,
            "align_content": null,
            "visibility": null,
            "align_self": null,
            "height": null,
            "min_height": null,
            "padding": null,
            "grid_auto_rows": null,
            "grid_gap": null,
            "max_width": null,
            "order": null,
            "_view_module_version": "1.2.0",
            "grid_template_areas": null,
            "object_position": null,
            "object_fit": null,
            "grid_auto_columns": null,
            "margin": null,
            "display": null,
            "left": null
          }
        },
        "f4e7a32dfcba46f698fa4aa7a25030f8": {
          "model_module": "@jupyter-widgets/controls",
          "model_name": "DescriptionStyleModel",
          "state": {
            "_view_name": "StyleView",
            "_model_name": "DescriptionStyleModel",
            "description_width": "",
            "_view_module": "@jupyter-widgets/base",
            "_model_module_version": "1.5.0",
            "_view_count": null,
            "_view_module_version": "1.2.0",
            "_model_module": "@jupyter-widgets/controls"
          }
        },
        "9948396e87e24f1abb13f4598e9803f5": {
          "model_module": "@jupyter-widgets/base",
          "model_name": "LayoutModel",
          "state": {
            "_view_name": "LayoutView",
            "grid_template_rows": null,
            "right": null,
            "justify_content": null,
            "_view_module": "@jupyter-widgets/base",
            "overflow": null,
            "_model_module_version": "1.2.0",
            "_view_count": null,
            "flex_flow": null,
            "width": null,
            "min_width": null,
            "border": null,
            "align_items": null,
            "bottom": null,
            "_model_module": "@jupyter-widgets/base",
            "top": null,
            "grid_column": null,
            "overflow_y": null,
            "overflow_x": null,
            "grid_auto_flow": null,
            "grid_area": null,
            "grid_template_columns": null,
            "flex": null,
            "_model_name": "LayoutModel",
            "justify_items": null,
            "grid_row": null,
            "max_height": null,
            "align_content": null,
            "visibility": null,
            "align_self": null,
            "height": null,
            "min_height": null,
            "padding": null,
            "grid_auto_rows": null,
            "grid_gap": null,
            "max_width": null,
            "order": null,
            "_view_module_version": "1.2.0",
            "grid_template_areas": null,
            "object_position": null,
            "object_fit": null,
            "grid_auto_columns": null,
            "margin": null,
            "display": null,
            "left": null
          }
        },
        "85dd7aa9eee84f669e4e4262bc2ccd81": {
          "model_module": "@jupyter-widgets/controls",
          "model_name": "HBoxModel",
          "state": {
            "_view_name": "HBoxView",
            "_dom_classes": [],
            "_model_name": "HBoxModel",
            "_view_module": "@jupyter-widgets/controls",
            "_model_module_version": "1.5.0",
            "_view_count": null,
            "_view_module_version": "1.5.0",
            "box_style": "",
            "layout": "IPY_MODEL_9cbf4958ba814b26bbd21af9064e3d5d",
            "_model_module": "@jupyter-widgets/controls",
            "children": [
              "IPY_MODEL_4b689da0affd4e59a8656eeb1b5400bc",
              "IPY_MODEL_4029f0cdebd344198171b7296c7bbb78"
            ]
          }
        },
        "9cbf4958ba814b26bbd21af9064e3d5d": {
          "model_module": "@jupyter-widgets/base",
          "model_name": "LayoutModel",
          "state": {
            "_view_name": "LayoutView",
            "grid_template_rows": null,
            "right": null,
            "justify_content": null,
            "_view_module": "@jupyter-widgets/base",
            "overflow": null,
            "_model_module_version": "1.2.0",
            "_view_count": null,
            "flex_flow": null,
            "width": null,
            "min_width": null,
            "border": null,
            "align_items": null,
            "bottom": null,
            "_model_module": "@jupyter-widgets/base",
            "top": null,
            "grid_column": null,
            "overflow_y": null,
            "overflow_x": null,
            "grid_auto_flow": null,
            "grid_area": null,
            "grid_template_columns": null,
            "flex": null,
            "_model_name": "LayoutModel",
            "justify_items": null,
            "grid_row": null,
            "max_height": null,
            "align_content": null,
            "visibility": null,
            "align_self": null,
            "height": null,
            "min_height": null,
            "padding": null,
            "grid_auto_rows": null,
            "grid_gap": null,
            "max_width": null,
            "order": null,
            "_view_module_version": "1.2.0",
            "grid_template_areas": null,
            "object_position": null,
            "object_fit": null,
            "grid_auto_columns": null,
            "margin": null,
            "display": null,
            "left": null
          }
        },
        "4b689da0affd4e59a8656eeb1b5400bc": {
          "model_module": "@jupyter-widgets/controls",
          "model_name": "FloatProgressModel",
          "state": {
            "_view_name": "ProgressView",
            "style": "IPY_MODEL_e1a43e522fa745c398d999b26d04cf28",
            "_dom_classes": [],
            "description": "Downloading: 100%",
            "_model_name": "FloatProgressModel",
            "bar_style": "success",
            "max": 1472569832,
            "_view_module": "@jupyter-widgets/controls",
            "_model_module_version": "1.5.0",
            "value": 1472569832,
            "_view_count": null,
            "_view_module_version": "1.5.0",
            "orientation": "horizontal",
            "min": 0,
            "description_tooltip": null,
            "_model_module": "@jupyter-widgets/controls",
            "layout": "IPY_MODEL_12a1c699220146de9732870b40d46cb8"
          }
        },
        "4029f0cdebd344198171b7296c7bbb78": {
          "model_module": "@jupyter-widgets/controls",
          "model_name": "HTMLModel",
          "state": {
            "_view_name": "HTMLView",
            "style": "IPY_MODEL_7eb56ef0ae3a4acaad5134a20cdddd67",
            "_dom_classes": [],
            "description": "",
            "_model_name": "HTMLModel",
            "placeholder": "​",
            "_view_module": "@jupyter-widgets/controls",
            "_model_module_version": "1.5.0",
            "value": " 1.47G/1.47G [00:37&lt;00:00, 39.6MB/s]",
            "_view_count": null,
            "_view_module_version": "1.5.0",
            "description_tooltip": null,
            "_model_module": "@jupyter-widgets/controls",
            "layout": "IPY_MODEL_71b0721960f84bb5ba4bc84da347c0a3"
          }
        },
        "e1a43e522fa745c398d999b26d04cf28": {
          "model_module": "@jupyter-widgets/controls",
          "model_name": "ProgressStyleModel",
          "state": {
            "_view_name": "StyleView",
            "_model_name": "ProgressStyleModel",
            "description_width": "initial",
            "_view_module": "@jupyter-widgets/base",
            "_model_module_version": "1.5.0",
            "_view_count": null,
            "_view_module_version": "1.2.0",
            "bar_color": null,
            "_model_module": "@jupyter-widgets/controls"
          }
        },
        "12a1c699220146de9732870b40d46cb8": {
          "model_module": "@jupyter-widgets/base",
          "model_name": "LayoutModel",
          "state": {
            "_view_name": "LayoutView",
            "grid_template_rows": null,
            "right": null,
            "justify_content": null,
            "_view_module": "@jupyter-widgets/base",
            "overflow": null,
            "_model_module_version": "1.2.0",
            "_view_count": null,
            "flex_flow": null,
            "width": null,
            "min_width": null,
            "border": null,
            "align_items": null,
            "bottom": null,
            "_model_module": "@jupyter-widgets/base",
            "top": null,
            "grid_column": null,
            "overflow_y": null,
            "overflow_x": null,
            "grid_auto_flow": null,
            "grid_area": null,
            "grid_template_columns": null,
            "flex": null,
            "_model_name": "LayoutModel",
            "justify_items": null,
            "grid_row": null,
            "max_height": null,
            "align_content": null,
            "visibility": null,
            "align_self": null,
            "height": null,
            "min_height": null,
            "padding": null,
            "grid_auto_rows": null,
            "grid_gap": null,
            "max_width": null,
            "order": null,
            "_view_module_version": "1.2.0",
            "grid_template_areas": null,
            "object_position": null,
            "object_fit": null,
            "grid_auto_columns": null,
            "margin": null,
            "display": null,
            "left": null
          }
        },
        "7eb56ef0ae3a4acaad5134a20cdddd67": {
          "model_module": "@jupyter-widgets/controls",
          "model_name": "DescriptionStyleModel",
          "state": {
            "_view_name": "StyleView",
            "_model_name": "DescriptionStyleModel",
            "description_width": "",
            "_view_module": "@jupyter-widgets/base",
            "_model_module_version": "1.5.0",
            "_view_count": null,
            "_view_module_version": "1.2.0",
            "_model_module": "@jupyter-widgets/controls"
          }
        },
        "71b0721960f84bb5ba4bc84da347c0a3": {
          "model_module": "@jupyter-widgets/base",
          "model_name": "LayoutModel",
          "state": {
            "_view_name": "LayoutView",
            "grid_template_rows": null,
            "right": null,
            "justify_content": null,
            "_view_module": "@jupyter-widgets/base",
            "overflow": null,
            "_model_module_version": "1.2.0",
            "_view_count": null,
            "flex_flow": null,
            "width": null,
            "min_width": null,
            "border": null,
            "align_items": null,
            "bottom": null,
            "_model_module": "@jupyter-widgets/base",
            "top": null,
            "grid_column": null,
            "overflow_y": null,
            "overflow_x": null,
            "grid_auto_flow": null,
            "grid_area": null,
            "grid_template_columns": null,
            "flex": null,
            "_model_name": "LayoutModel",
            "justify_items": null,
            "grid_row": null,
            "max_height": null,
            "align_content": null,
            "visibility": null,
            "align_self": null,
            "height": null,
            "min_height": null,
            "padding": null,
            "grid_auto_rows": null,
            "grid_gap": null,
            "max_width": null,
            "order": null,
            "_view_module_version": "1.2.0",
            "grid_template_areas": null,
            "object_position": null,
            "object_fit": null,
            "grid_auto_columns": null,
            "margin": null,
            "display": null,
            "left": null
          }
        },
        "9c7ed4f1d5e544749311e99c2a389879": {
          "model_module": "@jupyter-widgets/controls",
          "model_name": "HBoxModel",
          "state": {
            "_view_name": "HBoxView",
            "_dom_classes": [],
            "_model_name": "HBoxModel",
            "_view_module": "@jupyter-widgets/controls",
            "_model_module_version": "1.5.0",
            "_view_count": null,
            "_view_module_version": "1.5.0",
            "box_style": "",
            "layout": "IPY_MODEL_b5778845903e4f959311e9d4328f6b27",
            "_model_module": "@jupyter-widgets/controls",
            "children": [
              "IPY_MODEL_cb275bc56a7c4edaa82a970ca72c7b4c",
              "IPY_MODEL_5f503e16c37748c7b6aa4c7cff792405"
            ]
          }
        },
        "b5778845903e4f959311e9d4328f6b27": {
          "model_module": "@jupyter-widgets/base",
          "model_name": "LayoutModel",
          "state": {
            "_view_name": "LayoutView",
            "grid_template_rows": null,
            "right": null,
            "justify_content": null,
            "_view_module": "@jupyter-widgets/base",
            "overflow": null,
            "_model_module_version": "1.2.0",
            "_view_count": null,
            "flex_flow": null,
            "width": null,
            "min_width": null,
            "border": null,
            "align_items": null,
            "bottom": null,
            "_model_module": "@jupyter-widgets/base",
            "top": null,
            "grid_column": null,
            "overflow_y": null,
            "overflow_x": null,
            "grid_auto_flow": null,
            "grid_area": null,
            "grid_template_columns": null,
            "flex": null,
            "_model_name": "LayoutModel",
            "justify_items": null,
            "grid_row": null,
            "max_height": null,
            "align_content": null,
            "visibility": null,
            "align_self": null,
            "height": null,
            "min_height": null,
            "padding": null,
            "grid_auto_rows": null,
            "grid_gap": null,
            "max_width": null,
            "order": null,
            "_view_module_version": "1.2.0",
            "grid_template_areas": null,
            "object_position": null,
            "object_fit": null,
            "grid_auto_columns": null,
            "margin": null,
            "display": null,
            "left": null
          }
        },
        "cb275bc56a7c4edaa82a970ca72c7b4c": {
          "model_module": "@jupyter-widgets/controls",
          "model_name": "FloatProgressModel",
          "state": {
            "_view_name": "ProgressView",
            "style": "IPY_MODEL_0bf6fab39f1a44f590c6bbc57bc9adbb",
            "_dom_classes": [],
            "description": "Downloading: 100%",
            "_model_name": "FloatProgressModel",
            "bar_style": "success",
            "max": 442,
            "_view_module": "@jupyter-widgets/controls",
            "_model_module_version": "1.5.0",
            "value": 442,
            "_view_count": null,
            "_view_module_version": "1.5.0",
            "orientation": "horizontal",
            "min": 0,
            "description_tooltip": null,
            "_model_module": "@jupyter-widgets/controls",
            "layout": "IPY_MODEL_cec3691d840741d49a077db31237f6b1"
          }
        },
        "5f503e16c37748c7b6aa4c7cff792405": {
          "model_module": "@jupyter-widgets/controls",
          "model_name": "HTMLModel",
          "state": {
            "_view_name": "HTMLView",
            "style": "IPY_MODEL_18578bc6e536406db0abb33b0221961a",
            "_dom_classes": [],
            "description": "",
            "_model_name": "HTMLModel",
            "placeholder": "​",
            "_view_module": "@jupyter-widgets/controls",
            "_model_module_version": "1.5.0",
            "value": " 442/442 [00:00&lt;00:00, 13.4kB/s]",
            "_view_count": null,
            "_view_module_version": "1.5.0",
            "description_tooltip": null,
            "_model_module": "@jupyter-widgets/controls",
            "layout": "IPY_MODEL_7afda398a86c49a5a22c90a204f4d32b"
          }
        },
        "0bf6fab39f1a44f590c6bbc57bc9adbb": {
          "model_module": "@jupyter-widgets/controls",
          "model_name": "ProgressStyleModel",
          "state": {
            "_view_name": "StyleView",
            "_model_name": "ProgressStyleModel",
            "description_width": "initial",
            "_view_module": "@jupyter-widgets/base",
            "_model_module_version": "1.5.0",
            "_view_count": null,
            "_view_module_version": "1.2.0",
            "bar_color": null,
            "_model_module": "@jupyter-widgets/controls"
          }
        },
        "cec3691d840741d49a077db31237f6b1": {
          "model_module": "@jupyter-widgets/base",
          "model_name": "LayoutModel",
          "state": {
            "_view_name": "LayoutView",
            "grid_template_rows": null,
            "right": null,
            "justify_content": null,
            "_view_module": "@jupyter-widgets/base",
            "overflow": null,
            "_model_module_version": "1.2.0",
            "_view_count": null,
            "flex_flow": null,
            "width": null,
            "min_width": null,
            "border": null,
            "align_items": null,
            "bottom": null,
            "_model_module": "@jupyter-widgets/base",
            "top": null,
            "grid_column": null,
            "overflow_y": null,
            "overflow_x": null,
            "grid_auto_flow": null,
            "grid_area": null,
            "grid_template_columns": null,
            "flex": null,
            "_model_name": "LayoutModel",
            "justify_items": null,
            "grid_row": null,
            "max_height": null,
            "align_content": null,
            "visibility": null,
            "align_self": null,
            "height": null,
            "min_height": null,
            "padding": null,
            "grid_auto_rows": null,
            "grid_gap": null,
            "max_width": null,
            "order": null,
            "_view_module_version": "1.2.0",
            "grid_template_areas": null,
            "object_position": null,
            "object_fit": null,
            "grid_auto_columns": null,
            "margin": null,
            "display": null,
            "left": null
          }
        },
        "18578bc6e536406db0abb33b0221961a": {
          "model_module": "@jupyter-widgets/controls",
          "model_name": "DescriptionStyleModel",
          "state": {
            "_view_name": "StyleView",
            "_model_name": "DescriptionStyleModel",
            "description_width": "",
            "_view_module": "@jupyter-widgets/base",
            "_model_module_version": "1.5.0",
            "_view_count": null,
            "_view_module_version": "1.2.0",
            "_model_module": "@jupyter-widgets/controls"
          }
        },
        "7afda398a86c49a5a22c90a204f4d32b": {
          "model_module": "@jupyter-widgets/base",
          "model_name": "LayoutModel",
          "state": {
            "_view_name": "LayoutView",
            "grid_template_rows": null,
            "right": null,
            "justify_content": null,
            "_view_module": "@jupyter-widgets/base",
            "overflow": null,
            "_model_module_version": "1.2.0",
            "_view_count": null,
            "flex_flow": null,
            "width": null,
            "min_width": null,
            "border": null,
            "align_items": null,
            "bottom": null,
            "_model_module": "@jupyter-widgets/base",
            "top": null,
            "grid_column": null,
            "overflow_y": null,
            "overflow_x": null,
            "grid_auto_flow": null,
            "grid_area": null,
            "grid_template_columns": null,
            "flex": null,
            "_model_name": "LayoutModel",
            "justify_items": null,
            "grid_row": null,
            "max_height": null,
            "align_content": null,
            "visibility": null,
            "align_self": null,
            "height": null,
            "min_height": null,
            "padding": null,
            "grid_auto_rows": null,
            "grid_gap": null,
            "max_width": null,
            "order": null,
            "_view_module_version": "1.2.0",
            "grid_template_areas": null,
            "object_position": null,
            "object_fit": null,
            "grid_auto_columns": null,
            "margin": null,
            "display": null,
            "left": null
          }
        },
        "4c21840fa97148ce8702b7c1bea9a96b": {
          "model_module": "@jupyter-widgets/controls",
          "model_name": "HBoxModel",
          "state": {
            "_view_name": "HBoxView",
            "_dom_classes": [],
            "_model_name": "HBoxModel",
            "_view_module": "@jupyter-widgets/controls",
            "_model_module_version": "1.5.0",
            "_view_count": null,
            "_view_module_version": "1.5.0",
            "box_style": "",
            "layout": "IPY_MODEL_547cdf4e7b014d458c3a425938c3c567",
            "_model_module": "@jupyter-widgets/controls",
            "children": [
              "IPY_MODEL_e37a7cf270fc4b46b1df99969affb021",
              "IPY_MODEL_ca6791efb5154c9aaa167ede2ede1bd6"
            ]
          }
        },
        "547cdf4e7b014d458c3a425938c3c567": {
          "model_module": "@jupyter-widgets/base",
          "model_name": "LayoutModel",
          "state": {
            "_view_name": "LayoutView",
            "grid_template_rows": null,
            "right": null,
            "justify_content": null,
            "_view_module": "@jupyter-widgets/base",
            "overflow": null,
            "_model_module_version": "1.2.0",
            "_view_count": null,
            "flex_flow": null,
            "width": null,
            "min_width": null,
            "border": null,
            "align_items": null,
            "bottom": null,
            "_model_module": "@jupyter-widgets/base",
            "top": null,
            "grid_column": null,
            "overflow_y": null,
            "overflow_x": null,
            "grid_auto_flow": null,
            "grid_area": null,
            "grid_template_columns": null,
            "flex": null,
            "_model_name": "LayoutModel",
            "justify_items": null,
            "grid_row": null,
            "max_height": null,
            "align_content": null,
            "visibility": null,
            "align_self": null,
            "height": null,
            "min_height": null,
            "padding": null,
            "grid_auto_rows": null,
            "grid_gap": null,
            "max_width": null,
            "order": null,
            "_view_module_version": "1.2.0",
            "grid_template_areas": null,
            "object_position": null,
            "object_fit": null,
            "grid_auto_columns": null,
            "margin": null,
            "display": null,
            "left": null
          }
        },
        "e37a7cf270fc4b46b1df99969affb021": {
          "model_module": "@jupyter-widgets/controls",
          "model_name": "FloatProgressModel",
          "state": {
            "_view_name": "ProgressView",
            "style": "IPY_MODEL_96ea5940b1384477a05cadc03bccb442",
            "_dom_classes": [],
            "description": "Downloading: 100%",
            "_model_name": "FloatProgressModel",
            "bar_style": "success",
            "max": 231508,
            "_view_module": "@jupyter-widgets/controls",
            "_model_module_version": "1.5.0",
            "value": 231508,
            "_view_count": null,
            "_view_module_version": "1.5.0",
            "orientation": "horizontal",
            "min": 0,
            "description_tooltip": null,
            "_model_module": "@jupyter-widgets/controls",
            "layout": "IPY_MODEL_f74c5ae187f941e1a3e5cbee26d5043d"
          }
        },
        "ca6791efb5154c9aaa167ede2ede1bd6": {
          "model_module": "@jupyter-widgets/controls",
          "model_name": "HTMLModel",
          "state": {
            "_view_name": "HTMLView",
            "style": "IPY_MODEL_229206beb7d4468da855a3817acb0b32",
            "_dom_classes": [],
            "description": "",
            "_model_name": "HTMLModel",
            "placeholder": "​",
            "_view_module": "@jupyter-widgets/controls",
            "_model_module_version": "1.5.0",
            "value": " 232k/232k [00:01&lt;00:00, 183kB/s]",
            "_view_count": null,
            "_view_module_version": "1.5.0",
            "description_tooltip": null,
            "_model_module": "@jupyter-widgets/controls",
            "layout": "IPY_MODEL_0c2ee44196b24af5b6774766000d3f73"
          }
        },
        "96ea5940b1384477a05cadc03bccb442": {
          "model_module": "@jupyter-widgets/controls",
          "model_name": "ProgressStyleModel",
          "state": {
            "_view_name": "StyleView",
            "_model_name": "ProgressStyleModel",
            "description_width": "initial",
            "_view_module": "@jupyter-widgets/base",
            "_model_module_version": "1.5.0",
            "_view_count": null,
            "_view_module_version": "1.2.0",
            "bar_color": null,
            "_model_module": "@jupyter-widgets/controls"
          }
        },
        "f74c5ae187f941e1a3e5cbee26d5043d": {
          "model_module": "@jupyter-widgets/base",
          "model_name": "LayoutModel",
          "state": {
            "_view_name": "LayoutView",
            "grid_template_rows": null,
            "right": null,
            "justify_content": null,
            "_view_module": "@jupyter-widgets/base",
            "overflow": null,
            "_model_module_version": "1.2.0",
            "_view_count": null,
            "flex_flow": null,
            "width": null,
            "min_width": null,
            "border": null,
            "align_items": null,
            "bottom": null,
            "_model_module": "@jupyter-widgets/base",
            "top": null,
            "grid_column": null,
            "overflow_y": null,
            "overflow_x": null,
            "grid_auto_flow": null,
            "grid_area": null,
            "grid_template_columns": null,
            "flex": null,
            "_model_name": "LayoutModel",
            "justify_items": null,
            "grid_row": null,
            "max_height": null,
            "align_content": null,
            "visibility": null,
            "align_self": null,
            "height": null,
            "min_height": null,
            "padding": null,
            "grid_auto_rows": null,
            "grid_gap": null,
            "max_width": null,
            "order": null,
            "_view_module_version": "1.2.0",
            "grid_template_areas": null,
            "object_position": null,
            "object_fit": null,
            "grid_auto_columns": null,
            "margin": null,
            "display": null,
            "left": null
          }
        },
        "229206beb7d4468da855a3817acb0b32": {
          "model_module": "@jupyter-widgets/controls",
          "model_name": "DescriptionStyleModel",
          "state": {
            "_view_name": "StyleView",
            "_model_name": "DescriptionStyleModel",
            "description_width": "",
            "_view_module": "@jupyter-widgets/base",
            "_model_module_version": "1.5.0",
            "_view_count": null,
            "_view_module_version": "1.2.0",
            "_model_module": "@jupyter-widgets/controls"
          }
        },
        "0c2ee44196b24af5b6774766000d3f73": {
          "model_module": "@jupyter-widgets/base",
          "model_name": "LayoutModel",
          "state": {
            "_view_name": "LayoutView",
            "grid_template_rows": null,
            "right": null,
            "justify_content": null,
            "_view_module": "@jupyter-widgets/base",
            "overflow": null,
            "_model_module_version": "1.2.0",
            "_view_count": null,
            "flex_flow": null,
            "width": null,
            "min_width": null,
            "border": null,
            "align_items": null,
            "bottom": null,
            "_model_module": "@jupyter-widgets/base",
            "top": null,
            "grid_column": null,
            "overflow_y": null,
            "overflow_x": null,
            "grid_auto_flow": null,
            "grid_area": null,
            "grid_template_columns": null,
            "flex": null,
            "_model_name": "LayoutModel",
            "justify_items": null,
            "grid_row": null,
            "max_height": null,
            "align_content": null,
            "visibility": null,
            "align_self": null,
            "height": null,
            "min_height": null,
            "padding": null,
            "grid_auto_rows": null,
            "grid_gap": null,
            "max_width": null,
            "order": null,
            "_view_module_version": "1.2.0",
            "grid_template_areas": null,
            "object_position": null,
            "object_fit": null,
            "grid_auto_columns": null,
            "margin": null,
            "display": null,
            "left": null
          }
        },
        "213510c446a04eedadea5f9f1c826468": {
          "model_module": "@jupyter-widgets/controls",
          "model_name": "HBoxModel",
          "state": {
            "_view_name": "HBoxView",
            "_dom_classes": [],
            "_model_name": "HBoxModel",
            "_view_module": "@jupyter-widgets/controls",
            "_model_module_version": "1.5.0",
            "_view_count": null,
            "_view_module_version": "1.5.0",
            "box_style": "",
            "layout": "IPY_MODEL_d48ee9e63d4e4fceb50ede1843aa554f",
            "_model_module": "@jupyter-widgets/controls",
            "children": [
              "IPY_MODEL_11ca3e96d64d40f8a5fa882c5879e93a",
              "IPY_MODEL_49823a30e82d40c98d4428b2321f6ac8"
            ]
          }
        },
        "d48ee9e63d4e4fceb50ede1843aa554f": {
          "model_module": "@jupyter-widgets/base",
          "model_name": "LayoutModel",
          "state": {
            "_view_name": "LayoutView",
            "grid_template_rows": null,
            "right": null,
            "justify_content": null,
            "_view_module": "@jupyter-widgets/base",
            "overflow": null,
            "_model_module_version": "1.2.0",
            "_view_count": null,
            "flex_flow": null,
            "width": null,
            "min_width": null,
            "border": null,
            "align_items": null,
            "bottom": null,
            "_model_module": "@jupyter-widgets/base",
            "top": null,
            "grid_column": null,
            "overflow_y": null,
            "overflow_x": null,
            "grid_auto_flow": null,
            "grid_area": null,
            "grid_template_columns": null,
            "flex": null,
            "_model_name": "LayoutModel",
            "justify_items": null,
            "grid_row": null,
            "max_height": null,
            "align_content": null,
            "visibility": null,
            "align_self": null,
            "height": null,
            "min_height": null,
            "padding": null,
            "grid_auto_rows": null,
            "grid_gap": null,
            "max_width": null,
            "order": null,
            "_view_module_version": "1.2.0",
            "grid_template_areas": null,
            "object_position": null,
            "object_fit": null,
            "grid_auto_columns": null,
            "margin": null,
            "display": null,
            "left": null
          }
        },
        "11ca3e96d64d40f8a5fa882c5879e93a": {
          "model_module": "@jupyter-widgets/controls",
          "model_name": "FloatProgressModel",
          "state": {
            "_view_name": "ProgressView",
            "style": "IPY_MODEL_b82a7ff05adf4016805cca0c3e996d54",
            "_dom_classes": [],
            "description": "Downloading: 100%",
            "_model_name": "FloatProgressModel",
            "bar_style": "success",
            "max": 466062,
            "_view_module": "@jupyter-widgets/controls",
            "_model_module_version": "1.5.0",
            "value": 466062,
            "_view_count": null,
            "_view_module_version": "1.5.0",
            "orientation": "horizontal",
            "min": 0,
            "description_tooltip": null,
            "_model_module": "@jupyter-widgets/controls",
            "layout": "IPY_MODEL_cf6b5e6571d3498eaf5f10cdef3bef0f"
          }
        },
        "49823a30e82d40c98d4428b2321f6ac8": {
          "model_module": "@jupyter-widgets/controls",
          "model_name": "HTMLModel",
          "state": {
            "_view_name": "HTMLView",
            "style": "IPY_MODEL_cc4ccf5b175b434190caf4c08b2a9031",
            "_dom_classes": [],
            "description": "",
            "_model_name": "HTMLModel",
            "placeholder": "​",
            "_view_module": "@jupyter-widgets/controls",
            "_model_module_version": "1.5.0",
            "value": " 466k/466k [00:00&lt;00:00, 1.17MB/s]",
            "_view_count": null,
            "_view_module_version": "1.5.0",
            "description_tooltip": null,
            "_model_module": "@jupyter-widgets/controls",
            "layout": "IPY_MODEL_320c1a54930a47c3895b7218df79ca8e"
          }
        },
        "b82a7ff05adf4016805cca0c3e996d54": {
          "model_module": "@jupyter-widgets/controls",
          "model_name": "ProgressStyleModel",
          "state": {
            "_view_name": "StyleView",
            "_model_name": "ProgressStyleModel",
            "description_width": "initial",
            "_view_module": "@jupyter-widgets/base",
            "_model_module_version": "1.5.0",
            "_view_count": null,
            "_view_module_version": "1.2.0",
            "bar_color": null,
            "_model_module": "@jupyter-widgets/controls"
          }
        },
        "cf6b5e6571d3498eaf5f10cdef3bef0f": {
          "model_module": "@jupyter-widgets/base",
          "model_name": "LayoutModel",
          "state": {
            "_view_name": "LayoutView",
            "grid_template_rows": null,
            "right": null,
            "justify_content": null,
            "_view_module": "@jupyter-widgets/base",
            "overflow": null,
            "_model_module_version": "1.2.0",
            "_view_count": null,
            "flex_flow": null,
            "width": null,
            "min_width": null,
            "border": null,
            "align_items": null,
            "bottom": null,
            "_model_module": "@jupyter-widgets/base",
            "top": null,
            "grid_column": null,
            "overflow_y": null,
            "overflow_x": null,
            "grid_auto_flow": null,
            "grid_area": null,
            "grid_template_columns": null,
            "flex": null,
            "_model_name": "LayoutModel",
            "justify_items": null,
            "grid_row": null,
            "max_height": null,
            "align_content": null,
            "visibility": null,
            "align_self": null,
            "height": null,
            "min_height": null,
            "padding": null,
            "grid_auto_rows": null,
            "grid_gap": null,
            "max_width": null,
            "order": null,
            "_view_module_version": "1.2.0",
            "grid_template_areas": null,
            "object_position": null,
            "object_fit": null,
            "grid_auto_columns": null,
            "margin": null,
            "display": null,
            "left": null
          }
        },
        "cc4ccf5b175b434190caf4c08b2a9031": {
          "model_module": "@jupyter-widgets/controls",
          "model_name": "DescriptionStyleModel",
          "state": {
            "_view_name": "StyleView",
            "_model_name": "DescriptionStyleModel",
            "description_width": "",
            "_view_module": "@jupyter-widgets/base",
            "_model_module_version": "1.5.0",
            "_view_count": null,
            "_view_module_version": "1.2.0",
            "_model_module": "@jupyter-widgets/controls"
          }
        },
        "320c1a54930a47c3895b7218df79ca8e": {
          "model_module": "@jupyter-widgets/base",
          "model_name": "LayoutModel",
          "state": {
            "_view_name": "LayoutView",
            "grid_template_rows": null,
            "right": null,
            "justify_content": null,
            "_view_module": "@jupyter-widgets/base",
            "overflow": null,
            "_model_module_version": "1.2.0",
            "_view_count": null,
            "flex_flow": null,
            "width": null,
            "min_width": null,
            "border": null,
            "align_items": null,
            "bottom": null,
            "_model_module": "@jupyter-widgets/base",
            "top": null,
            "grid_column": null,
            "overflow_y": null,
            "overflow_x": null,
            "grid_auto_flow": null,
            "grid_area": null,
            "grid_template_columns": null,
            "flex": null,
            "_model_name": "LayoutModel",
            "justify_items": null,
            "grid_row": null,
            "max_height": null,
            "align_content": null,
            "visibility": null,
            "align_self": null,
            "height": null,
            "min_height": null,
            "padding": null,
            "grid_auto_rows": null,
            "grid_gap": null,
            "max_width": null,
            "order": null,
            "_view_module_version": "1.2.0",
            "grid_template_areas": null,
            "object_position": null,
            "object_fit": null,
            "grid_auto_columns": null,
            "margin": null,
            "display": null,
            "left": null
          }
        },
        "584545e8c7504bb5b571008833652fbd": {
          "model_module": "@jupyter-widgets/controls",
          "model_name": "HBoxModel",
          "state": {
            "_view_name": "HBoxView",
            "_dom_classes": [],
            "_model_name": "HBoxModel",
            "_view_module": "@jupyter-widgets/controls",
            "_model_module_version": "1.5.0",
            "_view_count": null,
            "_view_module_version": "1.5.0",
            "box_style": "",
            "layout": "IPY_MODEL_44d6b5d736ef49969cff26f1f2904b71",
            "_model_module": "@jupyter-widgets/controls",
            "children": [
              "IPY_MODEL_cb70529bd664444ab644b5b513f63f90",
              "IPY_MODEL_2b9ae19e5c2746c8a36e6db761c8f19d"
            ]
          }
        },
        "44d6b5d736ef49969cff26f1f2904b71": {
          "model_module": "@jupyter-widgets/base",
          "model_name": "LayoutModel",
          "state": {
            "_view_name": "LayoutView",
            "grid_template_rows": null,
            "right": null,
            "justify_content": null,
            "_view_module": "@jupyter-widgets/base",
            "overflow": null,
            "_model_module_version": "1.2.0",
            "_view_count": null,
            "flex_flow": null,
            "width": null,
            "min_width": null,
            "border": null,
            "align_items": null,
            "bottom": null,
            "_model_module": "@jupyter-widgets/base",
            "top": null,
            "grid_column": null,
            "overflow_y": null,
            "overflow_x": null,
            "grid_auto_flow": null,
            "grid_area": null,
            "grid_template_columns": null,
            "flex": null,
            "_model_name": "LayoutModel",
            "justify_items": null,
            "grid_row": null,
            "max_height": null,
            "align_content": null,
            "visibility": null,
            "align_self": null,
            "height": null,
            "min_height": null,
            "padding": null,
            "grid_auto_rows": null,
            "grid_gap": null,
            "max_width": null,
            "order": null,
            "_view_module_version": "1.2.0",
            "grid_template_areas": null,
            "object_position": null,
            "object_fit": null,
            "grid_auto_columns": null,
            "margin": null,
            "display": null,
            "left": null
          }
        },
        "cb70529bd664444ab644b5b513f63f90": {
          "model_module": "@jupyter-widgets/controls",
          "model_name": "FloatProgressModel",
          "state": {
            "_view_name": "ProgressView",
            "style": "IPY_MODEL_5919619fac484915836ad4bdaada0724",
            "_dom_classes": [],
            "description": "Downloading: 100%",
            "_model_name": "FloatProgressModel",
            "bar_style": "success",
            "max": 363423424,
            "_view_module": "@jupyter-widgets/controls",
            "_model_module_version": "1.5.0",
            "value": 363423424,
            "_view_count": null,
            "_view_module_version": "1.5.0",
            "orientation": "horizontal",
            "min": 0,
            "description_tooltip": null,
            "_model_module": "@jupyter-widgets/controls",
            "layout": "IPY_MODEL_bbb1ae94c7b74192a5ec2055a492e2ea"
          }
        },
        "2b9ae19e5c2746c8a36e6db761c8f19d": {
          "model_module": "@jupyter-widgets/controls",
          "model_name": "HTMLModel",
          "state": {
            "_view_name": "HTMLView",
            "style": "IPY_MODEL_5c69d976896b4388bf3851a4f20bf17b",
            "_dom_classes": [],
            "description": "",
            "_model_name": "HTMLModel",
            "placeholder": "​",
            "_view_module": "@jupyter-widgets/controls",
            "_model_module_version": "1.5.0",
            "value": " 363M/363M [00:19&lt;00:00, 18.5MB/s]",
            "_view_count": null,
            "_view_module_version": "1.5.0",
            "description_tooltip": null,
            "_model_module": "@jupyter-widgets/controls",
            "layout": "IPY_MODEL_479f69f936454ecabd21f3ab997ff02b"
          }
        },
        "5919619fac484915836ad4bdaada0724": {
          "model_module": "@jupyter-widgets/controls",
          "model_name": "ProgressStyleModel",
          "state": {
            "_view_name": "StyleView",
            "_model_name": "ProgressStyleModel",
            "description_width": "initial",
            "_view_module": "@jupyter-widgets/base",
            "_model_module_version": "1.5.0",
            "_view_count": null,
            "_view_module_version": "1.2.0",
            "bar_color": null,
            "_model_module": "@jupyter-widgets/controls"
          }
        },
        "bbb1ae94c7b74192a5ec2055a492e2ea": {
          "model_module": "@jupyter-widgets/base",
          "model_name": "LayoutModel",
          "state": {
            "_view_name": "LayoutView",
            "grid_template_rows": null,
            "right": null,
            "justify_content": null,
            "_view_module": "@jupyter-widgets/base",
            "overflow": null,
            "_model_module_version": "1.2.0",
            "_view_count": null,
            "flex_flow": null,
            "width": null,
            "min_width": null,
            "border": null,
            "align_items": null,
            "bottom": null,
            "_model_module": "@jupyter-widgets/base",
            "top": null,
            "grid_column": null,
            "overflow_y": null,
            "overflow_x": null,
            "grid_auto_flow": null,
            "grid_area": null,
            "grid_template_columns": null,
            "flex": null,
            "_model_name": "LayoutModel",
            "justify_items": null,
            "grid_row": null,
            "max_height": null,
            "align_content": null,
            "visibility": null,
            "align_self": null,
            "height": null,
            "min_height": null,
            "padding": null,
            "grid_auto_rows": null,
            "grid_gap": null,
            "max_width": null,
            "order": null,
            "_view_module_version": "1.2.0",
            "grid_template_areas": null,
            "object_position": null,
            "object_fit": null,
            "grid_auto_columns": null,
            "margin": null,
            "display": null,
            "left": null
          }
        },
        "5c69d976896b4388bf3851a4f20bf17b": {
          "model_module": "@jupyter-widgets/controls",
          "model_name": "DescriptionStyleModel",
          "state": {
            "_view_name": "StyleView",
            "_model_name": "DescriptionStyleModel",
            "description_width": "",
            "_view_module": "@jupyter-widgets/base",
            "_model_module_version": "1.5.0",
            "_view_count": null,
            "_view_module_version": "1.2.0",
            "_model_module": "@jupyter-widgets/controls"
          }
        },
        "479f69f936454ecabd21f3ab997ff02b": {
          "model_module": "@jupyter-widgets/base",
          "model_name": "LayoutModel",
          "state": {
            "_view_name": "LayoutView",
            "grid_template_rows": null,
            "right": null,
            "justify_content": null,
            "_view_module": "@jupyter-widgets/base",
            "overflow": null,
            "_model_module_version": "1.2.0",
            "_view_count": null,
            "flex_flow": null,
            "width": null,
            "min_width": null,
            "border": null,
            "align_items": null,
            "bottom": null,
            "_model_module": "@jupyter-widgets/base",
            "top": null,
            "grid_column": null,
            "overflow_y": null,
            "overflow_x": null,
            "grid_auto_flow": null,
            "grid_area": null,
            "grid_template_columns": null,
            "flex": null,
            "_model_name": "LayoutModel",
            "justify_items": null,
            "grid_row": null,
            "max_height": null,
            "align_content": null,
            "visibility": null,
            "align_self": null,
            "height": null,
            "min_height": null,
            "padding": null,
            "grid_auto_rows": null,
            "grid_gap": null,
            "max_width": null,
            "order": null,
            "_view_module_version": "1.2.0",
            "grid_template_areas": null,
            "object_position": null,
            "object_fit": null,
            "grid_auto_columns": null,
            "margin": null,
            "display": null,
            "left": null
          }
        }
      }
    }
  },
  "cells": [
    {
      "cell_type": "markdown",
      "metadata": {
        "id": "shcxSqiPXFeF"
      },
      "source": [
        "### Lets install all the dependencies first"
      ]
    },
    {
      "cell_type": "markdown",
      "metadata": {
        "id": "rQIFivO1XPgj"
      },
      "source": [
        "First we are going to install **Hugging Face**"
      ]
    },
    {
      "cell_type": "code",
      "metadata": {
        "colab": {
          "base_uri": "https://localhost:8080/"
        },
        "id": "426URg75XcvA",
        "outputId": "741463f1-7dc4-43f5-c484-b77c76c46c7a"
      },
      "source": [
        "pip install transformers"
      ],
      "execution_count": 1,
      "outputs": [
        {
          "output_type": "stream",
          "text": [
            "Collecting transformers\n",
            "\u001b[?25l  Downloading https://files.pythonhosted.org/packages/99/84/7bc03215279f603125d844bf81c3fb3f2d50fe8e511546eb4897e4be2067/transformers-4.0.0-py3-none-any.whl (1.4MB)\n",
            "\r\u001b[K     |▎                               | 10kB 20.2MB/s eta 0:00:01\r\u001b[K     |▌                               | 20kB 15.9MB/s eta 0:00:01\r\u001b[K     |▊                               | 30kB 13.3MB/s eta 0:00:01\r\u001b[K     |█                               | 40kB 12.2MB/s eta 0:00:01\r\u001b[K     |█▏                              | 51kB 9.1MB/s eta 0:00:01\r\u001b[K     |█▌                              | 61kB 5.9MB/s eta 0:00:01\r\u001b[K     |█▊                              | 71kB 6.7MB/s eta 0:00:01\r\u001b[K     |██                              | 81kB 7.5MB/s eta 0:00:01\r\u001b[K     |██▏                             | 92kB 8.1MB/s eta 0:00:01\r\u001b[K     |██▍                             | 102kB 8.2MB/s eta 0:00:01\r\u001b[K     |██▋                             | 112kB 8.2MB/s eta 0:00:01\r\u001b[K     |███                             | 122kB 8.2MB/s eta 0:00:01\r\u001b[K     |███▏                            | 133kB 8.2MB/s eta 0:00:01\r\u001b[K     |███▍                            | 143kB 8.2MB/s eta 0:00:01\r\u001b[K     |███▋                            | 153kB 8.2MB/s eta 0:00:01\r\u001b[K     |███▉                            | 163kB 8.2MB/s eta 0:00:01\r\u001b[K     |████▏                           | 174kB 8.2MB/s eta 0:00:01\r\u001b[K     |████▍                           | 184kB 8.2MB/s eta 0:00:01\r\u001b[K     |████▋                           | 194kB 8.2MB/s eta 0:00:01\r\u001b[K     |████▉                           | 204kB 8.2MB/s eta 0:00:01\r\u001b[K     |█████                           | 215kB 8.2MB/s eta 0:00:01\r\u001b[K     |█████▎                          | 225kB 8.2MB/s eta 0:00:01\r\u001b[K     |█████▋                          | 235kB 8.2MB/s eta 0:00:01\r\u001b[K     |█████▉                          | 245kB 8.2MB/s eta 0:00:01\r\u001b[K     |██████                          | 256kB 8.2MB/s eta 0:00:01\r\u001b[K     |██████▎                         | 266kB 8.2MB/s eta 0:00:01\r\u001b[K     |██████▌                         | 276kB 8.2MB/s eta 0:00:01\r\u001b[K     |██████▉                         | 286kB 8.2MB/s eta 0:00:01\r\u001b[K     |███████                         | 296kB 8.2MB/s eta 0:00:01\r\u001b[K     |███████▎                        | 307kB 8.2MB/s eta 0:00:01\r\u001b[K     |███████▌                        | 317kB 8.2MB/s eta 0:00:01\r\u001b[K     |███████▊                        | 327kB 8.2MB/s eta 0:00:01\r\u001b[K     |████████                        | 337kB 8.2MB/s eta 0:00:01\r\u001b[K     |████████▎                       | 348kB 8.2MB/s eta 0:00:01\r\u001b[K     |████████▌                       | 358kB 8.2MB/s eta 0:00:01\r\u001b[K     |████████▊                       | 368kB 8.2MB/s eta 0:00:01\r\u001b[K     |█████████                       | 378kB 8.2MB/s eta 0:00:01\r\u001b[K     |█████████▏                      | 389kB 8.2MB/s eta 0:00:01\r\u001b[K     |█████████▌                      | 399kB 8.2MB/s eta 0:00:01\r\u001b[K     |█████████▊                      | 409kB 8.2MB/s eta 0:00:01\r\u001b[K     |██████████                      | 419kB 8.2MB/s eta 0:00:01\r\u001b[K     |██████████▏                     | 430kB 8.2MB/s eta 0:00:01\r\u001b[K     |██████████▍                     | 440kB 8.2MB/s eta 0:00:01\r\u001b[K     |██████████▋                     | 450kB 8.2MB/s eta 0:00:01\r\u001b[K     |███████████                     | 460kB 8.2MB/s eta 0:00:01\r\u001b[K     |███████████▏                    | 471kB 8.2MB/s eta 0:00:01\r\u001b[K     |███████████▍                    | 481kB 8.2MB/s eta 0:00:01\r\u001b[K     |███████████▋                    | 491kB 8.2MB/s eta 0:00:01\r\u001b[K     |███████████▉                    | 501kB 8.2MB/s eta 0:00:01\r\u001b[K     |████████████▏                   | 512kB 8.2MB/s eta 0:00:01\r\u001b[K     |████████████▍                   | 522kB 8.2MB/s eta 0:00:01\r\u001b[K     |████████████▋                   | 532kB 8.2MB/s eta 0:00:01\r\u001b[K     |████████████▉                   | 542kB 8.2MB/s eta 0:00:01\r\u001b[K     |█████████████                   | 552kB 8.2MB/s eta 0:00:01\r\u001b[K     |█████████████▎                  | 563kB 8.2MB/s eta 0:00:01\r\u001b[K     |█████████████▋                  | 573kB 8.2MB/s eta 0:00:01\r\u001b[K     |█████████████▉                  | 583kB 8.2MB/s eta 0:00:01\r\u001b[K     |██████████████                  | 593kB 8.2MB/s eta 0:00:01\r\u001b[K     |██████████████▎                 | 604kB 8.2MB/s eta 0:00:01\r\u001b[K     |██████████████▌                 | 614kB 8.2MB/s eta 0:00:01\r\u001b[K     |██████████████▉                 | 624kB 8.2MB/s eta 0:00:01\r\u001b[K     |███████████████                 | 634kB 8.2MB/s eta 0:00:01\r\u001b[K     |███████████████▎                | 645kB 8.2MB/s eta 0:00:01\r\u001b[K     |███████████████▌                | 655kB 8.2MB/s eta 0:00:01\r\u001b[K     |███████████████▊                | 665kB 8.2MB/s eta 0:00:01\r\u001b[K     |████████████████                | 675kB 8.2MB/s eta 0:00:01\r\u001b[K     |████████████████▎               | 686kB 8.2MB/s eta 0:00:01\r\u001b[K     |████████████████▌               | 696kB 8.2MB/s eta 0:00:01\r\u001b[K     |████████████████▊               | 706kB 8.2MB/s eta 0:00:01\r\u001b[K     |█████████████████               | 716kB 8.2MB/s eta 0:00:01\r\u001b[K     |█████████████████▏              | 727kB 8.2MB/s eta 0:00:01\r\u001b[K     |█████████████████▌              | 737kB 8.2MB/s eta 0:00:01\r\u001b[K     |█████████████████▊              | 747kB 8.2MB/s eta 0:00:01\r\u001b[K     |██████████████████              | 757kB 8.2MB/s eta 0:00:01\r\u001b[K     |██████████████████▏             | 768kB 8.2MB/s eta 0:00:01\r\u001b[K     |██████████████████▍             | 778kB 8.2MB/s eta 0:00:01\r\u001b[K     |██████████████████▋             | 788kB 8.2MB/s eta 0:00:01\r\u001b[K     |███████████████████             | 798kB 8.2MB/s eta 0:00:01\r\u001b[K     |███████████████████▏            | 808kB 8.2MB/s eta 0:00:01\r\u001b[K     |███████████████████▍            | 819kB 8.2MB/s eta 0:00:01\r\u001b[K     |███████████████████▋            | 829kB 8.2MB/s eta 0:00:01\r\u001b[K     |███████████████████▉            | 839kB 8.2MB/s eta 0:00:01\r\u001b[K     |████████████████████▏           | 849kB 8.2MB/s eta 0:00:01\r\u001b[K     |████████████████████▍           | 860kB 8.2MB/s eta 0:00:01\r\u001b[K     |████████████████████▋           | 870kB 8.2MB/s eta 0:00:01\r\u001b[K     |████████████████████▉           | 880kB 8.2MB/s eta 0:00:01\r\u001b[K     |█████████████████████           | 890kB 8.2MB/s eta 0:00:01\r\u001b[K     |█████████████████████▎          | 901kB 8.2MB/s eta 0:00:01\r\u001b[K     |█████████████████████▋          | 911kB 8.2MB/s eta 0:00:01\r\u001b[K     |█████████████████████▉          | 921kB 8.2MB/s eta 0:00:01\r\u001b[K     |██████████████████████          | 931kB 8.2MB/s eta 0:00:01\r\u001b[K     |██████████████████████▎         | 942kB 8.2MB/s eta 0:00:01\r\u001b[K     |██████████████████████▌         | 952kB 8.2MB/s eta 0:00:01\r\u001b[K     |██████████████████████▉         | 962kB 8.2MB/s eta 0:00:01\r\u001b[K     |███████████████████████         | 972kB 8.2MB/s eta 0:00:01\r\u001b[K     |███████████████████████▎        | 983kB 8.2MB/s eta 0:00:01\r\u001b[K     |███████████████████████▌        | 993kB 8.2MB/s eta 0:00:01\r\u001b[K     |███████████████████████▊        | 1.0MB 8.2MB/s eta 0:00:01\r\u001b[K     |████████████████████████        | 1.0MB 8.2MB/s eta 0:00:01\r\u001b[K     |████████████████████████▎       | 1.0MB 8.2MB/s eta 0:00:01\r\u001b[K     |████████████████████████▌       | 1.0MB 8.2MB/s eta 0:00:01\r\u001b[K     |████████████████████████▊       | 1.0MB 8.2MB/s eta 0:00:01\r\u001b[K     |█████████████████████████       | 1.1MB 8.2MB/s eta 0:00:01\r\u001b[K     |█████████████████████████▏      | 1.1MB 8.2MB/s eta 0:00:01\r\u001b[K     |█████████████████████████▌      | 1.1MB 8.2MB/s eta 0:00:01\r\u001b[K     |█████████████████████████▊      | 1.1MB 8.2MB/s eta 0:00:01\r\u001b[K     |██████████████████████████      | 1.1MB 8.2MB/s eta 0:00:01\r\u001b[K     |██████████████████████████▏     | 1.1MB 8.2MB/s eta 0:00:01\r\u001b[K     |██████████████████████████▍     | 1.1MB 8.2MB/s eta 0:00:01\r\u001b[K     |██████████████████████████▋     | 1.1MB 8.2MB/s eta 0:00:01\r\u001b[K     |███████████████████████████     | 1.1MB 8.2MB/s eta 0:00:01\r\u001b[K     |███████████████████████████▏    | 1.1MB 8.2MB/s eta 0:00:01\r\u001b[K     |███████████████████████████▍    | 1.2MB 8.2MB/s eta 0:00:01\r\u001b[K     |███████████████████████████▋    | 1.2MB 8.2MB/s eta 0:00:01\r\u001b[K     |███████████████████████████▉    | 1.2MB 8.2MB/s eta 0:00:01\r\u001b[K     |████████████████████████████▏   | 1.2MB 8.2MB/s eta 0:00:01\r\u001b[K     |████████████████████████████▍   | 1.2MB 8.2MB/s eta 0:00:01\r\u001b[K     |████████████████████████████▋   | 1.2MB 8.2MB/s eta 0:00:01\r\u001b[K     |████████████████████████████▉   | 1.2MB 8.2MB/s eta 0:00:01\r\u001b[K     |█████████████████████████████   | 1.2MB 8.2MB/s eta 0:00:01\r\u001b[K     |█████████████████████████████▎  | 1.2MB 8.2MB/s eta 0:00:01\r\u001b[K     |█████████████████████████████▋  | 1.2MB 8.2MB/s eta 0:00:01\r\u001b[K     |█████████████████████████████▉  | 1.3MB 8.2MB/s eta 0:00:01\r\u001b[K     |██████████████████████████████  | 1.3MB 8.2MB/s eta 0:00:01\r\u001b[K     |██████████████████████████████▎ | 1.3MB 8.2MB/s eta 0:00:01\r\u001b[K     |██████████████████████████████▌ | 1.3MB 8.2MB/s eta 0:00:01\r\u001b[K     |██████████████████████████████▉ | 1.3MB 8.2MB/s eta 0:00:01\r\u001b[K     |███████████████████████████████ | 1.3MB 8.2MB/s eta 0:00:01\r\u001b[K     |███████████████████████████████▎| 1.3MB 8.2MB/s eta 0:00:01\r\u001b[K     |███████████████████████████████▌| 1.3MB 8.2MB/s eta 0:00:01\r\u001b[K     |███████████████████████████████▊| 1.3MB 8.2MB/s eta 0:00:01\r\u001b[K     |████████████████████████████████| 1.4MB 8.2MB/s eta 0:00:01\r\u001b[K     |████████████████████████████████| 1.4MB 8.2MB/s \n",
            "\u001b[?25hRequirement already satisfied: requests in /usr/local/lib/python3.6/dist-packages (from transformers) (2.23.0)\n",
            "Requirement already satisfied: filelock in /usr/local/lib/python3.6/dist-packages (from transformers) (3.0.12)\n",
            "Requirement already satisfied: dataclasses; python_version < \"3.7\" in /usr/local/lib/python3.6/dist-packages (from transformers) (0.8)\n",
            "Requirement already satisfied: numpy in /usr/local/lib/python3.6/dist-packages (from transformers) (1.18.5)\n",
            "Requirement already satisfied: regex!=2019.12.17 in /usr/local/lib/python3.6/dist-packages (from transformers) (2019.12.20)\n",
            "Collecting sacremoses\n",
            "\u001b[?25l  Downloading https://files.pythonhosted.org/packages/7d/34/09d19aff26edcc8eb2a01bed8e98f13a1537005d31e95233fd48216eed10/sacremoses-0.0.43.tar.gz (883kB)\n",
            "\u001b[K     |████████████████████████████████| 890kB 49.8MB/s \n",
            "\u001b[?25hCollecting tokenizers==0.9.4\n",
            "\u001b[?25l  Downloading https://files.pythonhosted.org/packages/0f/1c/e789a8b12e28be5bc1ce2156cf87cb522b379be9cadc7ad8091a4cc107c4/tokenizers-0.9.4-cp36-cp36m-manylinux2010_x86_64.whl (2.9MB)\n",
            "\u001b[K     |████████████████████████████████| 2.9MB 50.6MB/s \n",
            "\u001b[?25hRequirement already satisfied: packaging in /usr/local/lib/python3.6/dist-packages (from transformers) (20.4)\n",
            "Requirement already satisfied: tqdm>=4.27 in /usr/local/lib/python3.6/dist-packages (from transformers) (4.41.1)\n",
            "Requirement already satisfied: urllib3!=1.25.0,!=1.25.1,<1.26,>=1.21.1 in /usr/local/lib/python3.6/dist-packages (from requests->transformers) (1.24.3)\n",
            "Requirement already satisfied: certifi>=2017.4.17 in /usr/local/lib/python3.6/dist-packages (from requests->transformers) (2020.11.8)\n",
            "Requirement already satisfied: idna<3,>=2.5 in /usr/local/lib/python3.6/dist-packages (from requests->transformers) (2.10)\n",
            "Requirement already satisfied: chardet<4,>=3.0.2 in /usr/local/lib/python3.6/dist-packages (from requests->transformers) (3.0.4)\n",
            "Requirement already satisfied: six in /usr/local/lib/python3.6/dist-packages (from sacremoses->transformers) (1.15.0)\n",
            "Requirement already satisfied: click in /usr/local/lib/python3.6/dist-packages (from sacremoses->transformers) (7.1.2)\n",
            "Requirement already satisfied: joblib in /usr/local/lib/python3.6/dist-packages (from sacremoses->transformers) (0.17.0)\n",
            "Requirement already satisfied: pyparsing>=2.0.2 in /usr/local/lib/python3.6/dist-packages (from packaging->transformers) (2.4.7)\n",
            "Building wheels for collected packages: sacremoses\n",
            "  Building wheel for sacremoses (setup.py) ... \u001b[?25l\u001b[?25hdone\n",
            "  Created wheel for sacremoses: filename=sacremoses-0.0.43-cp36-none-any.whl size=893257 sha256=936376b3db4fb6a391e77e8b1199adaa2e457734ba522833132413ed30cafcba\n",
            "  Stored in directory: /root/.cache/pip/wheels/29/3c/fd/7ce5c3f0666dab31a50123635e6fb5e19ceb42ce38d4e58f45\n",
            "Successfully built sacremoses\n",
            "Installing collected packages: sacremoses, tokenizers, transformers\n",
            "Successfully installed sacremoses-0.0.43 tokenizers-0.9.4 transformers-4.0.0\n"
          ],
          "name": "stdout"
        }
      ]
    },
    {
      "cell_type": "code",
      "metadata": {
        "id": "aJbQ1SpenskB",
        "colab": {
          "base_uri": "https://localhost:8080/"
        },
        "outputId": "7e5f0ab0-3f4b-4d99-d4c5-03897a815837"
      },
      "source": [
        "pip install -q ktrain"
      ],
      "execution_count": 2,
      "outputs": [
        {
          "output_type": "stream",
          "text": [
            "\u001b[K     |████████████████████████████████| 25.3MB 137kB/s \n",
            "\u001b[K     |████████████████████████████████| 983kB 52.1MB/s \n",
            "\u001b[K     |████████████████████████████████| 266kB 50.0MB/s \n",
            "\u001b[K     |████████████████████████████████| 1.3MB 51.6MB/s \n",
            "\u001b[K     |████████████████████████████████| 1.1MB 49.9MB/s \n",
            "\u001b[K     |████████████████████████████████| 471kB 49.9MB/s \n",
            "\u001b[K     |████████████████████████████████| 2.9MB 52.8MB/s \n",
            "\u001b[?25h  Building wheel for ktrain (setup.py) ... \u001b[?25l\u001b[?25hdone\n",
            "  Building wheel for langdetect (setup.py) ... \u001b[?25l\u001b[?25hdone\n",
            "  Building wheel for syntok (setup.py) ... \u001b[?25l\u001b[?25hdone\n",
            "  Building wheel for seqeval (setup.py) ... \u001b[?25l\u001b[?25hdone\n",
            "  Building wheel for keras-bert (setup.py) ... \u001b[?25l\u001b[?25hdone\n",
            "  Building wheel for keras-transformer (setup.py) ... \u001b[?25l\u001b[?25hdone\n",
            "  Building wheel for keras-pos-embd (setup.py) ... \u001b[?25l\u001b[?25hdone\n",
            "  Building wheel for keras-multi-head (setup.py) ... \u001b[?25l\u001b[?25hdone\n",
            "  Building wheel for keras-layer-normalization (setup.py) ... \u001b[?25l\u001b[?25hdone\n",
            "  Building wheel for keras-position-wise-feed-forward (setup.py) ... \u001b[?25l\u001b[?25hdone\n",
            "  Building wheel for keras-embed-sim (setup.py) ... \u001b[?25l\u001b[?25hdone\n",
            "  Building wheel for keras-self-attention (setup.py) ... \u001b[?25l\u001b[?25hdone\n",
            "\u001b[31mERROR: transformers 3.5.1 has requirement sentencepiece==0.1.91, but you'll have sentencepiece 0.1.94 which is incompatible.\u001b[0m\n"
          ],
          "name": "stdout"
        }
      ]
    },
    {
      "cell_type": "markdown",
      "metadata": {
        "id": "AnuyaUNCXzqk"
      },
      "source": [
        "We now install dependencies for **NLTK**"
      ]
    },
    {
      "cell_type": "code",
      "metadata": {
        "colab": {
          "base_uri": "https://localhost:8080/"
        },
        "id": "sxhEjUZjXEWO",
        "outputId": "57004ae2-8018-4572-b02b-40b9e11d8419"
      },
      "source": [
        "import nltk\r\n",
        "nltk.download('punkt')\r\n",
        "nltk.download('averaged_perceptron_tagger')"
      ],
      "execution_count": 3,
      "outputs": [
        {
          "output_type": "stream",
          "text": [
            "[nltk_data] Downloading package punkt to /root/nltk_data...\n",
            "[nltk_data]   Unzipping tokenizers/punkt.zip.\n",
            "[nltk_data] Downloading package averaged_perceptron_tagger to\n",
            "[nltk_data]     /root/nltk_data...\n",
            "[nltk_data]   Unzipping taggers/averaged_perceptron_tagger.zip.\n"
          ],
          "name": "stdout"
        },
        {
          "output_type": "execute_result",
          "data": {
            "text/plain": [
              "True"
            ]
          },
          "metadata": {
            "tags": []
          },
          "execution_count": 3
        }
      ]
    },
    {
      "cell_type": "code",
      "metadata": {
        "colab": {
          "base_uri": "https://localhost:8080/"
        },
        "id": "RguBCEQ4USRZ",
        "outputId": "bdb7d611-f55d-413a-801b-3371699d4813"
      },
      "source": [
        "!git clone https://github.com/wangcunxiang/SemEval2020-Task4-Commonsense-Validation-and-Explanation.git"
      ],
      "execution_count": 4,
      "outputs": [
        {
          "output_type": "stream",
          "text": [
            "Cloning into 'SemEval2020-Task4-Commonsense-Validation-and-Explanation'...\n",
            "remote: Enumerating objects: 88, done.\u001b[K\n",
            "remote: Counting objects: 100% (88/88), done.\u001b[K\n",
            "remote: Compressing objects: 100% (66/66), done.\u001b[K\n",
            "remote: Total 88 (delta 36), reused 64 (delta 19), pack-reused 0\u001b[K\n",
            "Unpacking objects: 100% (88/88), done.\n"
          ],
          "name": "stdout"
        }
      ]
    },
    {
      "cell_type": "markdown",
      "metadata": {
        "id": "ItG5EPUdYD_d"
      },
      "source": [
        "### Now we will import libraries and Prepare the models"
      ]
    },
    {
      "cell_type": "code",
      "metadata": {
        "colab": {
          "base_uri": "https://localhost:8080/"
        },
        "id": "FTUnB4UeWxEz",
        "outputId": "8e3d0845-72f1-4132-addf-814d9ac32ddf"
      },
      "source": [
        "from nltk import pos_tag, word_tokenize\r\n",
        "import tensorflow as tf\r\n",
        "import tensorflow_hub as hub\r\n",
        "import pandas as pd\r\n",
        "from sklearn.model_selection import train_test_split\r\n",
        "import numpy as np\r\n",
        "import keras\r\n",
        "import math\r\n",
        "import torch\r\n",
        "import pickle\r\n",
        "from keras.models import Model\r\n",
        "import keras.backend as K\r\n",
        "from sklearn.metrics import confusion_matrix,f1_score,classification_report\r\n",
        "import matplotlib.pyplot as plt\r\n",
        "from keras.callbacks import ModelCheckpoint\r\n",
        "import itertools\r\n",
        "from keras.models import load_model\r\n",
        "from sklearn.utils import shuffle\r\n",
        "from transformers import *\r\n",
        "from transformers import BertTokenizer, TFBertModel, BertConfig\r\n",
        "from transformers import OpenAIGPTTokenizer, OpenAIGPTLMHeadModel\r\n",
        "import ktrain\r\n",
        "from ktrain import text\r\n",
        "print('Tensorflow version: ',tf.__version__)"
      ],
      "execution_count": 5,
      "outputs": [
        {
          "output_type": "stream",
          "text": [
            "Tensorflow version:  2.3.0\n"
          ],
          "name": "stdout"
        }
      ]
    },
    {
      "cell_type": "markdown",
      "metadata": {
        "id": "E-jx8H4SZ_9j"
      },
      "source": [
        "**GPT** Model"
      ]
    },
    {
      "cell_type": "code",
      "metadata": {
        "colab": {
          "base_uri": "https://localhost:8080/",
          "height": 213,
          "referenced_widgets": [
            "1751756097924c268198fb02237d20a4",
            "8a349e788ad74df2acbac05fb000d2c9",
            "931000b07bec4b279a6b6d13f04c8c40",
            "c7fa265dbf964611854e5246c575752c",
            "63f3e884f64c4e0b9612af34e3360b5f",
            "832ef5f885e14548a5f04f75b0791138",
            "581aa9171d3c490aa477df77d6777f58",
            "59a8ed419f92400188ea0dd64747fe70",
            "bcd8bc795fcc4d11878e491aba8bf083",
            "76703a703d5c49c396300e127448effd",
            "30eb590bb9204cf4bc91330075862363",
            "6e3fc591ae2a4f8b83ccaa9762745182",
            "495cea735de14fe1a0aaf9acb66d3223",
            "cd7a381897c041ca9569c6f98c1e5bf3",
            "e25ede6098bd4078b5380f3ff9ed552c",
            "d00e5e40d8df493c85cab1a73f786989",
            "fe8a0f6d9cfa4e92bd4488c3bb7638ff",
            "9400b87393944001a453d893c2d3e977",
            "d69cbba44f5a420eb30b35adfb1a8705",
            "3892f2b0063649ccbe9517557b3dd423",
            "1d01cb0996e04a57aeba3be41bbfe3c9",
            "4a1eb96204814eb3845742952e57ea4c",
            "39f4ce467afe4239b149bb63205f2e45",
            "66d28c573221491fb0a47a5c53a8b8ff",
            "77c53b093bc341e69db158b5f060fb60",
            "93c8d3fb98384569bc15044fc504097e",
            "270d2e71cff94903b50c53b8ad2d1948",
            "2dc78c9155b24a2cb4ae267c3f7eeeca",
            "008236a161ae43e68f94ad5698cd2590",
            "a7a0f174780243c9b9d00c8fffa97907",
            "5f34dc39af0049dd9fc9ba49b949936f",
            "77df0524e52b4f64ac5b64be54fbfd3a"
          ]
        },
        "id": "dn7rCXnCaPQX",
        "outputId": "b905128c-488d-4c0b-c1ad-e725d1193952"
      },
      "source": [
        "model_gpt = OpenAIGPTLMHeadModel.from_pretrained('openai-gpt')\r\n",
        "model_gpt.eval()\r\n",
        "tokenizer_gpt = OpenAIGPTTokenizer.from_pretrained('openai-gpt')"
      ],
      "execution_count": 6,
      "outputs": [
        {
          "output_type": "display_data",
          "data": {
            "application/vnd.jupyter.widget-view+json": {
              "model_id": "1751756097924c268198fb02237d20a4",
              "version_minor": 0,
              "version_major": 2
            },
            "text/plain": [
              "HBox(children=(FloatProgress(value=0.0, description='Downloading', max=656.0, style=ProgressStyle(description_…"
            ]
          },
          "metadata": {
            "tags": []
          }
        },
        {
          "output_type": "stream",
          "text": [
            "\n"
          ],
          "name": "stdout"
        },
        {
          "output_type": "display_data",
          "data": {
            "application/vnd.jupyter.widget-view+json": {
              "model_id": "bcd8bc795fcc4d11878e491aba8bf083",
              "version_minor": 0,
              "version_major": 2
            },
            "text/plain": [
              "HBox(children=(FloatProgress(value=0.0, description='Downloading', max=478750579.0, style=ProgressStyle(descri…"
            ]
          },
          "metadata": {
            "tags": []
          }
        },
        {
          "output_type": "stream",
          "text": [
            "\n"
          ],
          "name": "stdout"
        },
        {
          "output_type": "display_data",
          "data": {
            "application/vnd.jupyter.widget-view+json": {
              "model_id": "fe8a0f6d9cfa4e92bd4488c3bb7638ff",
              "version_minor": 0,
              "version_major": 2
            },
            "text/plain": [
              "HBox(children=(FloatProgress(value=0.0, description='Downloading', max=815973.0, style=ProgressStyle(descripti…"
            ]
          },
          "metadata": {
            "tags": []
          }
        },
        {
          "output_type": "stream",
          "text": [
            "\n"
          ],
          "name": "stdout"
        },
        {
          "output_type": "display_data",
          "data": {
            "application/vnd.jupyter.widget-view+json": {
              "model_id": "77c53b093bc341e69db158b5f060fb60",
              "version_minor": 0,
              "version_major": 2
            },
            "text/plain": [
              "HBox(children=(FloatProgress(value=0.0, description='Downloading', max=458495.0, style=ProgressStyle(descripti…"
            ]
          },
          "metadata": {
            "tags": []
          }
        },
        {
          "output_type": "stream",
          "text": [
            "\n"
          ],
          "name": "stdout"
        }
      ]
    },
    {
      "cell_type": "markdown",
      "metadata": {
        "id": "OuAHPDPzaUgB"
      },
      "source": [
        "**BERT** Model"
      ]
    },
    {
      "cell_type": "code",
      "metadata": {
        "colab": {
          "base_uri": "https://localhost:8080/",
          "height": 164,
          "referenced_widgets": [
            "c489498bd8f4472f85fecdd71dfc4250",
            "d7b6291ea1c341e58ae937e971cf2436",
            "fd12f6035e1b4a48868ac82fd762b513",
            "d2e6fc9686f4438e960d195aa6796cc7",
            "af1130fed731468ca7352e4432c4732c",
            "8bef0f5e121e4928866041881cad435f",
            "425af7dfe44d463d9f794328a9e2da1b",
            "56e3e503337b467da2dc203044489e39",
            "8fd995efbf6e4e0d8ca881f62170164b",
            "bfaec69bcaf44068b31b41f26e4d8d26",
            "23e2daebb0a44018a894cf84a9b34c16",
            "80ac074d637441eda67b73f3ba54e6fc",
            "a06ffa99bb13463d91c51b72e25990ba",
            "18c14eb5fb1b4759ab4a79962d65a0d0",
            "f4e7a32dfcba46f698fa4aa7a25030f8",
            "9948396e87e24f1abb13f4598e9803f5",
            "85dd7aa9eee84f669e4e4262bc2ccd81",
            "9cbf4958ba814b26bbd21af9064e3d5d",
            "4b689da0affd4e59a8656eeb1b5400bc",
            "4029f0cdebd344198171b7296c7bbb78",
            "e1a43e522fa745c398d999b26d04cf28",
            "12a1c699220146de9732870b40d46cb8",
            "7eb56ef0ae3a4acaad5134a20cdddd67",
            "71b0721960f84bb5ba4bc84da347c0a3"
          ]
        },
        "id": "6FpoAvyRaWrm",
        "outputId": "97509f5d-66f7-4306-d562-e6f0fe19b896"
      },
      "source": [
        "bert_tokenizer = BertTokenizer.from_pretrained(\"bert-large-uncased\")\r\n",
        "bert_model = TFBertForSequenceClassification.from_pretrained('bert-large-uncased',num_labels=2)"
      ],
      "execution_count": 7,
      "outputs": [
        {
          "output_type": "display_data",
          "data": {
            "application/vnd.jupyter.widget-view+json": {
              "model_id": "c489498bd8f4472f85fecdd71dfc4250",
              "version_minor": 0,
              "version_major": 2
            },
            "text/plain": [
              "HBox(children=(FloatProgress(value=0.0, description='Downloading', max=231508.0, style=ProgressStyle(descripti…"
            ]
          },
          "metadata": {
            "tags": []
          }
        },
        {
          "output_type": "stream",
          "text": [
            "\n"
          ],
          "name": "stdout"
        },
        {
          "output_type": "display_data",
          "data": {
            "application/vnd.jupyter.widget-view+json": {
              "model_id": "8fd995efbf6e4e0d8ca881f62170164b",
              "version_minor": 0,
              "version_major": 2
            },
            "text/plain": [
              "HBox(children=(FloatProgress(value=0.0, description='Downloading', max=434.0, style=ProgressStyle(description_…"
            ]
          },
          "metadata": {
            "tags": []
          }
        },
        {
          "output_type": "stream",
          "text": [
            "\n"
          ],
          "name": "stdout"
        },
        {
          "output_type": "display_data",
          "data": {
            "application/vnd.jupyter.widget-view+json": {
              "model_id": "85dd7aa9eee84f669e4e4262bc2ccd81",
              "version_minor": 0,
              "version_major": 2
            },
            "text/plain": [
              "HBox(children=(FloatProgress(value=0.0, description='Downloading', max=1472569832.0, style=ProgressStyle(descr…"
            ]
          },
          "metadata": {
            "tags": []
          }
        },
        {
          "output_type": "stream",
          "text": [
            "\n"
          ],
          "name": "stdout"
        }
      ]
    },
    {
      "cell_type": "markdown",
      "metadata": {
        "id": "Z6opmPaNauzd"
      },
      "source": [
        "**DistilBert** Model"
      ]
    },
    {
      "cell_type": "code",
      "metadata": {
        "id": "CEl1ds57axM_"
      },
      "source": [
        "MODEL_NAME = 'distilbert-base-uncased'"
      ],
      "execution_count": 8,
      "outputs": []
    },
    {
      "cell_type": "markdown",
      "metadata": {
        "id": "erGqHWUrbGWH"
      },
      "source": [
        "### Lets load the data "
      ]
    },
    {
      "cell_type": "markdown",
      "metadata": {
        "id": "s5swqM0Kb62X"
      },
      "source": [
        "Train Data"
      ]
    },
    {
      "cell_type": "code",
      "metadata": {
        "id": "OIcG4a6bbCZO"
      },
      "source": [
        "df = pd.read_csv ('SemEval2020-Task4-Commonsense-Validation-and-Explanation/''ALL data''/''Training  Data''/subtaskA_data_all.csv', header = None)\r\n",
        "traindata =  df.to_numpy()\r\n",
        "df = pd.read_csv ('SemEval2020-Task4-Commonsense-Validation-and-Explanation/''ALL data''/''Training  Data''/subtaskA_answers_all.csv', header = None)\r\n",
        "trainlabels =  df.to_numpy()"
      ],
      "execution_count": 9,
      "outputs": []
    },
    {
      "cell_type": "markdown",
      "metadata": {
        "id": "diE8Trfbb8XM"
      },
      "source": [
        "Validation Data"
      ]
    },
    {
      "cell_type": "code",
      "metadata": {
        "id": "YEmWhiZ8b-dK"
      },
      "source": [
        "df = pd.read_csv ('SemEval2020-Task4-Commonsense-Validation-and-Explanation/''ALL data''/''Dev Data''/subtaskA_dev_data.csv', header = None)\r\n",
        "valdata =  df.to_numpy()\r\n",
        "df = pd.read_csv ('SemEval2020-Task4-Commonsense-Validation-and-Explanation/''ALL data''/''Dev Data''/subtaskA_gold_answers.csv', header = None)\r\n",
        "vallabels =  df.to_numpy()"
      ],
      "execution_count": 10,
      "outputs": []
    },
    {
      "cell_type": "markdown",
      "metadata": {
        "id": "ItBNBKngb-j9"
      },
      "source": [
        "Test Data"
      ]
    },
    {
      "cell_type": "code",
      "metadata": {
        "id": "69T8HOXjcAAd"
      },
      "source": [
        "df = pd.read_csv ('SemEval2020-Task4-Commonsense-Validation-and-Explanation/''ALL data''/''Test Data''/subtaskA_test_data.csv', header = None)\r\n",
        "testdata =  df.to_numpy()\r\n",
        "df = pd.read_csv ('SemEval2020-Task4-Commonsense-Validation-and-Explanation/''ALL data''/''Test Data''/subtaskA_gold_answers.csv', header = None)\r\n",
        "testlabels =  df.to_numpy()"
      ],
      "execution_count": 11,
      "outputs": []
    },
    {
      "cell_type": "markdown",
      "metadata": {
        "id": "y2QZWNTHcWc5"
      },
      "source": [
        "Getting train data ready"
      ]
    },
    {
      "cell_type": "code",
      "metadata": {
        "id": "z3sGCtHTcWtU"
      },
      "source": [
        "labels = []\r\n",
        "for i in range(len(trainlabels)):\r\n",
        "  if trainlabels[i][1] == 0:\r\n",
        "    labels.append(0)\r\n",
        "    labels.append(1)\r\n",
        "  else:\r\n",
        "    labels.append(1)\r\n",
        "    labels.append(0)\r\n",
        "sentenceid = [i[0] for i in traindata[1:]]\r\n",
        "sentence0 = [i[1] for i in traindata[1:]]\r\n",
        "sentence1 = [i[2] for i in traindata[1:]]\r\n",
        "sentences = []\r\n",
        "for i in range(len(sentence0)):\r\n",
        "  sentences.append(sentence0[i])\r\n",
        "  sentences.append(sentence1[i])\r\n",
        "# print('ID\\tSentence\\tLabels')\r\n",
        "sentid=[]\r\n",
        "for i in range(len(sentenceid)):\r\n",
        "  sentid.append(sentenceid[i])\r\n",
        "  sentid.append(sentenceid[i])\r\n",
        "# for i in range(20):\r\n",
        "#   print(sentid[i],sentences[i],labels[i])"
      ],
      "execution_count": 12,
      "outputs": []
    },
    {
      "cell_type": "markdown",
      "metadata": {
        "id": "LJDFgmiiddYJ"
      },
      "source": [
        "Getting validation data ready"
      ]
    },
    {
      "cell_type": "code",
      "metadata": {
        "id": "T76xjmsBda6L"
      },
      "source": [
        "devlabels = []\r\n",
        "for i in range(len(vallabels)):\r\n",
        "  if vallabels[i][1] == 0:\r\n",
        "    devlabels.append(0)\r\n",
        "    devlabels.append(1)\r\n",
        "  else:\r\n",
        "    devlabels.append(1)\r\n",
        "    devlabels.append(0)\r\n",
        "\r\n",
        "devsentenceid = [i[0] for i in valdata[1:]]\r\n",
        "devsentence0 = [i[1] for i in valdata[1:]]\r\n",
        "devsentence1 = [i[2] for i in valdata[1:]]\r\n",
        "devsentences = []\r\n",
        "for i in range(len(devsentence0)):\r\n",
        "  devsentences.append(devsentence0[i])\r\n",
        "  devsentences.append(devsentence1[i])\r\n",
        "\r\n",
        "# print('ID\\tSentence\\tLabels')\r\n",
        "devsentid=[]\r\n",
        "for i in range(len(devsentenceid)):\r\n",
        "  devsentid.append(devsentenceid[i])\r\n",
        "  devsentid.append(devsentenceid[i])\r\n",
        "# for i in range(20):\r\n",
        "#   print(devsentid[i],devsentences[i],devlabels[i])"
      ],
      "execution_count": 13,
      "outputs": []
    },
    {
      "cell_type": "markdown",
      "metadata": {
        "id": "dPkJP3xHdzVz"
      },
      "source": [
        "Getting test data ready"
      ]
    },
    {
      "cell_type": "code",
      "metadata": {
        "id": "EWXVb1RZdyqf"
      },
      "source": [
        "testlabel = []\r\n",
        "for i in range(len(testlabels)):\r\n",
        "  if testlabels[i][1] == 0:\r\n",
        "    testlabel.append(0)\r\n",
        "    testlabel.append(1)\r\n",
        "  else:\r\n",
        "    testlabel.append(1)\r\n",
        "    testlabel.append(0)\r\n",
        "\r\n",
        "testsentenceid = [i[0] for i in testdata[1:]]\r\n",
        "testsentence0 = [i[1] for i in testdata[1:]]\r\n",
        "testsentence1 = [i[2] for i in testdata[1:]]\r\n",
        "testsentences = []\r\n",
        "for i in range(len(testsentence0)):\r\n",
        "  testsentences.append(testsentence0[i])\r\n",
        "  testsentences.append(testsentence1[i])\r\n",
        "\r\n",
        "# print('ID\\tSentence\\tLabels')\r\n",
        "testsentid=[]\r\n",
        "for i in range(len(testsentenceid)):\r\n",
        "  testsentid.append(testsentenceid[i])\r\n",
        "  testsentid.append(testsentenceid[i])\r\n",
        "# for i in range(20):\r\n",
        "#   print(testsentid[i],testsentences[i],testlabels[i])"
      ],
      "execution_count": 14,
      "outputs": []
    },
    {
      "cell_type": "markdown",
      "metadata": {
        "id": "C08wTatdf36n"
      },
      "source": [
        "###**GPT**\r\n",
        "As GPT is Pretrained we don't need to train out data we can get the preplexity and compare the values of both sentences and the one with higher score will be against common sense"
      ]
    },
    {
      "cell_type": "code",
      "metadata": {
        "id": "r-Qyj2wJfuQR"
      },
      "source": [
        "def perp_score(sentence):\r\n",
        "    tokenize_input = tokenizer_gpt.tokenize(sentence)\r\n",
        "    tensor_input = torch.tensor([tokenizer_gpt.convert_tokens_to_ids(tokenize_input)])\r\n",
        "    loss = model_gpt(tensor_input, labels=tensor_input)\r\n",
        "    return math.exp(loss[0])\r\n",
        "gpt_pred = []\r\n",
        "for i in range(len(testsentenceid)):\r\n",
        "  sent = [testsentence0[i],testsentence1[i]]\r\n",
        "  score = [perp_score(i) for i in sent]\r\n",
        "  if score[1]>score[0]:\r\n",
        "    gpt_pred.append(1)\r\n",
        "  else:\r\n",
        "    gpt_pred.append(0)"
      ],
      "execution_count": 15,
      "outputs": []
    },
    {
      "cell_type": "markdown",
      "metadata": {
        "id": "y976sU-Lhp-q"
      },
      "source": [
        "GPT Accuracy"
      ]
    },
    {
      "cell_type": "code",
      "metadata": {
        "colab": {
          "base_uri": "https://localhost:8080/"
        },
        "id": "6Z1gzemag3dh",
        "outputId": "0e0ecb34-baee-478a-fe90-47b68567f139"
      },
      "source": [
        "gpt_correct = 0\r\n",
        "for i in range(len(gpt_pred)):\r\n",
        "  if gpt_pred[i] == testlabels[i][1]: gpt_correct +=1\r\n",
        "print('GPT Accuracy:',(gpt_correct/len(testsentenceid))*100,'%')"
      ],
      "execution_count": 16,
      "outputs": [
        {
          "output_type": "stream",
          "text": [
            "GPT Accuracy: 75.0 %\n"
          ],
          "name": "stdout"
        }
      ]
    },
    {
      "cell_type": "markdown",
      "metadata": {
        "id": "TcsOsSUpikZa"
      },
      "source": [
        "###**BERT**"
      ]
    },
    {
      "cell_type": "markdown",
      "metadata": {
        "id": "yLFHJ9Tmi1Oa"
      },
      "source": [
        "Convert Sentences into Input IDs"
      ]
    },
    {
      "cell_type": "code",
      "metadata": {
        "id": "tuY4xCv6irQU"
      },
      "source": [
        "train_input_ids=[]\r\n",
        "train_attention_masks=[]\r\n",
        "\r\n",
        "for sent in sentences:\r\n",
        "    bert_inp=bert_tokenizer.encode_plus(sent,add_special_tokens = True,max_length =64,pad_to_max_length = True,return_attention_mask = True)\r\n",
        "    train_input_ids.append(bert_inp['input_ids'])\r\n",
        "    train_attention_masks.append(bert_inp['attention_mask'])\r\n",
        "\r\n",
        "train_input_ids=np.asarray(train_input_ids)\r\n",
        "train_attention_masks=np.array(train_attention_masks)\r\n",
        "train_labels=np.array(labels)"
      ],
      "execution_count": 17,
      "outputs": []
    },
    {
      "cell_type": "code",
      "metadata": {
        "id": "x8lzrGFOjpyl"
      },
      "source": [
        "val_input_ids=[]\r\n",
        "val_attention_masks=[]\r\n",
        "\r\n",
        "for sent in devsentences:\r\n",
        "    bert_inp=bert_tokenizer.encode_plus(sent,add_special_tokens = True,max_length =64,pad_to_max_length = True,return_attention_mask = True)\r\n",
        "    val_input_ids.append(bert_inp['input_ids'])\r\n",
        "    val_attention_masks.append(bert_inp['attention_mask'])\r\n",
        "\r\n",
        "val_input_ids=np.asarray(val_input_ids)\r\n",
        "val_attention_masks=np.array(val_attention_masks)\r\n",
        "val_labels=np.array(devlabels)"
      ],
      "execution_count": 18,
      "outputs": []
    },
    {
      "cell_type": "code",
      "metadata": {
        "id": "R4vGu1Z_4ttK"
      },
      "source": [
        "testinput_ids=[]\r\n",
        "testattention_masks=[]\r\n",
        "\r\n",
        "for sent in testsentences:\r\n",
        "    bert_inp=bert_tokenizer.encode_plus(sent,add_special_tokens = True,max_length =32,pad_to_max_length = True,return_attention_mask = True)\r\n",
        "    testinput_ids.append(bert_inp['input_ids'])\r\n",
        "    testattention_masks.append(bert_inp['attention_mask'])\r\n",
        "\r\n",
        "testinput_ids=np.asarray(testinput_ids)\r\n",
        "testattention_masks=np.array(testattention_masks)\r\n",
        "testabels=np.array(testlabels)"
      ],
      "execution_count": 19,
      "outputs": []
    },
    {
      "cell_type": "code",
      "metadata": {
        "colab": {
          "base_uri": "https://localhost:8080/"
        },
        "id": "u16gpwgLkBkO",
        "outputId": "3fdfef53-54d0-485a-fde6-958ecff2a33a"
      },
      "source": [
        "train_inp = train_input_ids\r\n",
        "val_inp = val_input_ids\r\n",
        "train_label = train_labels\r\n",
        "val_label = val_labels\r\n",
        "train_mask = train_attention_masks\r\n",
        "val_mask = val_attention_masks\r\n",
        "\r\n",
        "\r\n",
        "print('Train inp shape {} Val input shape {}\\nTrain label shape {} Val label shape {}\\nTrain attention mask shape {} Val attention mask shape {}'.format(train_inp.shape,val_inp.shape,train_label.shape,val_label.shape,train_mask.shape,val_mask.shape))"
      ],
      "execution_count": 20,
      "outputs": [
        {
          "output_type": "stream",
          "text": [
            "Train inp shape (20000, 64) Val input shape (1994, 64)\n",
            "Train label shape (20000,) Val label shape (1994,)\n",
            "Train attention mask shape (20000, 64) Val attention mask shape (1994, 64)\n"
          ],
          "name": "stdout"
        }
      ]
    },
    {
      "cell_type": "markdown",
      "metadata": {
        "id": "XbodExwikvZt"
      },
      "source": [
        "Set Parameteres"
      ]
    },
    {
      "cell_type": "code",
      "metadata": {
        "colab": {
          "base_uri": "https://localhost:8080/"
        },
        "id": "Zp_cKnx1kQmN",
        "outputId": "4fcef945-3c76-4c86-cf66-20110f088960"
      },
      "source": [
        "print('\\nBert Model',bert_model.summary())\r\n",
        "\r\n",
        "loss = tf.keras.losses.SparseCategoricalCrossentropy(from_logits=True)\r\n",
        "metric = tf.keras.metrics.SparseCategoricalAccuracy('accuracy')\r\n",
        "optimizer = tf.keras.optimizers.Adam(learning_rate=2e-5,epsilon=1e-08)\r\n",
        "\r\n",
        "bert_model.compile(loss=loss,optimizer=optimizer,metrics=[metric])"
      ],
      "execution_count": 21,
      "outputs": [
        {
          "output_type": "stream",
          "text": [
            "Model: \"tf_bert_for_sequence_classification\"\n",
            "_________________________________________________________________\n",
            "Layer (type)                 Output Shape              Param #   \n",
            "=================================================================\n",
            "bert (TFBertMainLayer)       multiple                  335141888 \n",
            "_________________________________________________________________\n",
            "dropout_73 (Dropout)         multiple                  0         \n",
            "_________________________________________________________________\n",
            "classifier (Dense)           multiple                  2050      \n",
            "=================================================================\n",
            "Total params: 335,143,938\n",
            "Trainable params: 335,143,938\n",
            "Non-trainable params: 0\n",
            "_________________________________________________________________\n",
            "\n",
            "Bert Model None\n"
          ],
          "name": "stdout"
        }
      ]
    },
    {
      "cell_type": "markdown",
      "metadata": {
        "id": "7hjTP7eXkz-8"
      },
      "source": [
        "Training"
      ]
    },
    {
      "cell_type": "code",
      "metadata": {
        "id": "S6wYF6dpkrs3",
        "colab": {
          "base_uri": "https://localhost:8080/"
        },
        "outputId": "d89a1571-08a4-4693-e7ca-78f17ff12389"
      },
      "source": [
        "history=bert_model.fit([train_inp,train_mask],train_label,batch_size=32,epochs=8,validation_data=([val_inp,val_mask],val_label))"
      ],
      "execution_count": 22,
      "outputs": [
        {
          "output_type": "stream",
          "text": [
            "Epoch 1/8\n",
            "625/625 [==============================] - 794s 1s/step - loss: 0.5664 - accuracy: 0.6926 - val_loss: 0.4426 - val_accuracy: 0.7818\n",
            "Epoch 2/8\n",
            "625/625 [==============================] - 789s 1s/step - loss: 0.3906 - accuracy: 0.8180 - val_loss: 0.3744 - val_accuracy: 0.8265\n",
            "Epoch 3/8\n",
            "625/625 [==============================] - 788s 1s/step - loss: 0.2642 - accuracy: 0.8852 - val_loss: 0.4488 - val_accuracy: 0.8159\n",
            "Epoch 4/8\n",
            "625/625 [==============================] - 788s 1s/step - loss: 0.1741 - accuracy: 0.9276 - val_loss: 0.4675 - val_accuracy: 0.8375\n",
            "Epoch 5/8\n",
            "625/625 [==============================] - 789s 1s/step - loss: 0.1280 - accuracy: 0.9498 - val_loss: 0.5170 - val_accuracy: 0.8345\n",
            "Epoch 6/8\n",
            "625/625 [==============================] - 788s 1s/step - loss: 0.0873 - accuracy: 0.9682 - val_loss: 0.5883 - val_accuracy: 0.8385\n",
            "Epoch 7/8\n",
            "625/625 [==============================] - 788s 1s/step - loss: 0.0753 - accuracy: 0.9722 - val_loss: 0.6909 - val_accuracy: 0.8310\n",
            "Epoch 8/8\n",
            "625/625 [==============================] - 787s 1s/step - loss: 0.0588 - accuracy: 0.9795 - val_loss: 0.7222 - val_accuracy: 0.8330\n"
          ],
          "name": "stdout"
        }
      ]
    },
    {
      "cell_type": "markdown",
      "metadata": {
        "id": "I-VXG0cSk9X2"
      },
      "source": [
        "Get predictions"
      ]
    },
    {
      "cell_type": "code",
      "metadata": {
        "colab": {
          "base_uri": "https://localhost:8080/"
        },
        "id": "FMmux6Zck_ER",
        "outputId": "fe5cf723-45dd-4bb3-bab1-026b2fc4df73"
      },
      "source": [
        "bert_preds = bert_model.predict([testinput_ids,testattention_masks])\r\n",
        "bert_pred_labels = bert_preds[0].argmax(axis=1)\r\n",
        "bert_pred = []\r\n",
        "i=0\r\n",
        "while i<len(bert_pred_labels):\r\n",
        "  if bert_pred_labels[i] == 0:\r\n",
        "    bert_pred.append(0)\r\n",
        "    i += 2\r\n",
        "  else:\r\n",
        "    bert_pred.append(1)\r\n",
        "    i += 2\r\n",
        "print('Classification Report')\r\n",
        "print(classification_report(testlabel,bert_pred_labels))"
      ],
      "execution_count": 23,
      "outputs": [
        {
          "output_type": "stream",
          "text": [
            "Classification Report\n",
            "              precision    recall  f1-score   support\n",
            "\n",
            "           0       0.83      0.80      0.82      1000\n",
            "           1       0.81      0.84      0.82      1000\n",
            "\n",
            "    accuracy                           0.82      2000\n",
            "   macro avg       0.82      0.82      0.82      2000\n",
            "weighted avg       0.82      0.82      0.82      2000\n",
            "\n"
          ],
          "name": "stdout"
        }
      ]
    },
    {
      "cell_type": "markdown",
      "metadata": {
        "id": "8QsSN-JZli_Q"
      },
      "source": [
        "###*DistilBert**"
      ]
    },
    {
      "cell_type": "code",
      "metadata": {
        "id": "xI2Ul8wZlMGY"
      },
      "source": [
        "db_train_labels = np.array(labels)\r\n",
        "db_val_labels = np.array(devlabels)"
      ],
      "execution_count": 24,
      "outputs": []
    },
    {
      "cell_type": "code",
      "metadata": {
        "colab": {
          "base_uri": "https://localhost:8080/"
        },
        "id": "M3pFbI9Jl08C",
        "outputId": "eb12d34b-19fb-47e7-d0e2-46c831dc1c96"
      },
      "source": [
        "print('size of training set: %s' % (len(sentences)))\r\n",
        "print('size of validation set: %s' % (len(devsentences)))\r\n",
        "print('classes: %s' % (np.unique(labels)))\r\n",
        "\r\n",
        "x_train = sentences\r\n",
        "y_train = db_train_labels\r\n",
        "x_test = devsentences\r\n",
        "y_test = db_val_labels"
      ],
      "execution_count": 25,
      "outputs": [
        {
          "output_type": "stream",
          "text": [
            "size of training set: 20000\n",
            "size of validation set: 1994\n",
            "classes: [0 1]\n"
          ],
          "name": "stdout"
        }
      ]
    },
    {
      "cell_type": "markdown",
      "metadata": {
        "id": "dp5qu6fYmL1b"
      },
      "source": [
        "Prepare Model and parameter"
      ]
    },
    {
      "cell_type": "code",
      "metadata": {
        "colab": {
          "base_uri": "https://localhost:8080/",
          "height": 468,
          "referenced_widgets": [
            "9c7ed4f1d5e544749311e99c2a389879",
            "b5778845903e4f959311e9d4328f6b27",
            "cb275bc56a7c4edaa82a970ca72c7b4c",
            "5f503e16c37748c7b6aa4c7cff792405",
            "0bf6fab39f1a44f590c6bbc57bc9adbb",
            "cec3691d840741d49a077db31237f6b1",
            "18578bc6e536406db0abb33b0221961a",
            "7afda398a86c49a5a22c90a204f4d32b",
            "4c21840fa97148ce8702b7c1bea9a96b",
            "547cdf4e7b014d458c3a425938c3c567",
            "e37a7cf270fc4b46b1df99969affb021",
            "ca6791efb5154c9aaa167ede2ede1bd6",
            "96ea5940b1384477a05cadc03bccb442",
            "f74c5ae187f941e1a3e5cbee26d5043d",
            "229206beb7d4468da855a3817acb0b32",
            "0c2ee44196b24af5b6774766000d3f73",
            "213510c446a04eedadea5f9f1c826468",
            "d48ee9e63d4e4fceb50ede1843aa554f",
            "11ca3e96d64d40f8a5fa882c5879e93a",
            "49823a30e82d40c98d4428b2321f6ac8",
            "b82a7ff05adf4016805cca0c3e996d54",
            "cf6b5e6571d3498eaf5f10cdef3bef0f",
            "cc4ccf5b175b434190caf4c08b2a9031",
            "320c1a54930a47c3895b7218df79ca8e",
            "584545e8c7504bb5b571008833652fbd",
            "44d6b5d736ef49969cff26f1f2904b71",
            "cb70529bd664444ab644b5b513f63f90",
            "2b9ae19e5c2746c8a36e6db761c8f19d",
            "5919619fac484915836ad4bdaada0724",
            "bbb1ae94c7b74192a5ec2055a492e2ea",
            "5c69d976896b4388bf3851a4f20bf17b",
            "479f69f936454ecabd21f3ab997ff02b"
          ]
        },
        "id": "MGvkzPtrmGME",
        "outputId": "973e7278-5d23-4678-915d-59fa20f279be"
      },
      "source": [
        "t = text.Transformer(MODEL_NAME, maxlen=500, classes=np.unique(labels))\r\n",
        "trn = t.preprocess_train(x_train, y_train)\r\n",
        "val = t.preprocess_test(x_test, y_test)\r\n",
        "model = t.get_classifier()\r\n",
        "learner = ktrain.get_learner(model, train_data=trn, val_data=val, batch_size=6)"
      ],
      "execution_count": 26,
      "outputs": [
        {
          "output_type": "stream",
          "text": [
            "/usr/local/lib/python3.6/dist-packages/ktrain/text/preprocessor.py:414: UserWarning: The class_names argument is replacing the classes argument. Please update your code.\n",
            "  warnings.warn('The class_names argument is replacing the classes argument. Please update your code.')\n"
          ],
          "name": "stderr"
        },
        {
          "output_type": "display_data",
          "data": {
            "application/vnd.jupyter.widget-view+json": {
              "model_id": "9c7ed4f1d5e544749311e99c2a389879",
              "version_minor": 0,
              "version_major": 2
            },
            "text/plain": [
              "HBox(children=(FloatProgress(value=0.0, description='Downloading', max=442.0, style=ProgressStyle(description_…"
            ]
          },
          "metadata": {
            "tags": []
          }
        },
        {
          "output_type": "stream",
          "text": [
            "\n",
            "preprocessing train...\n",
            "language: en\n",
            "train sequence lengths:\n",
            "\tmean : 8\n",
            "\t95percentile : 13\n",
            "\t99percentile : 16\n"
          ],
          "name": "stdout"
        },
        {
          "output_type": "display_data",
          "data": {
            "application/vnd.jupyter.widget-view+json": {
              "model_id": "4c21840fa97148ce8702b7c1bea9a96b",
              "version_minor": 0,
              "version_major": 2
            },
            "text/plain": [
              "HBox(children=(FloatProgress(value=0.0, description='Downloading', max=231508.0, style=ProgressStyle(descripti…"
            ]
          },
          "metadata": {
            "tags": []
          }
        },
        {
          "output_type": "stream",
          "text": [
            "\n"
          ],
          "name": "stdout"
        },
        {
          "output_type": "display_data",
          "data": {
            "application/vnd.jupyter.widget-view+json": {
              "model_id": "213510c446a04eedadea5f9f1c826468",
              "version_minor": 0,
              "version_major": 2
            },
            "text/plain": [
              "HBox(children=(FloatProgress(value=0.0, description='Downloading', max=466062.0, style=ProgressStyle(descripti…"
            ]
          },
          "metadata": {
            "tags": []
          }
        },
        {
          "output_type": "stream",
          "text": [
            "\n"
          ],
          "name": "stdout"
        },
        {
          "output_type": "display_data",
          "data": {
            "text/html": [
              ""
            ],
            "text/plain": [
              "<IPython.core.display.HTML object>"
            ]
          },
          "metadata": {
            "tags": []
          }
        },
        {
          "output_type": "stream",
          "text": [
            "Is Multi-Label? False\n",
            "preprocessing test...\n",
            "language: en\n",
            "test sequence lengths:\n",
            "\tmean : 7\n",
            "\t95percentile : 12\n",
            "\t99percentile : 15\n"
          ],
          "name": "stdout"
        },
        {
          "output_type": "display_data",
          "data": {
            "text/html": [
              ""
            ],
            "text/plain": [
              "<IPython.core.display.HTML object>"
            ]
          },
          "metadata": {
            "tags": []
          }
        },
        {
          "output_type": "display_data",
          "data": {
            "application/vnd.jupyter.widget-view+json": {
              "model_id": "584545e8c7504bb5b571008833652fbd",
              "version_minor": 0,
              "version_major": 2
            },
            "text/plain": [
              "HBox(children=(FloatProgress(value=0.0, description='Downloading', max=363423424.0, style=ProgressStyle(descri…"
            ]
          },
          "metadata": {
            "tags": []
          }
        },
        {
          "output_type": "stream",
          "text": [
            "\n"
          ],
          "name": "stdout"
        }
      ]
    },
    {
      "cell_type": "markdown",
      "metadata": {
        "id": "bQiX4EXTmS0p"
      },
      "source": [
        "Training"
      ]
    },
    {
      "cell_type": "code",
      "metadata": {
        "id": "WZ_QNQkkmPdk",
        "colab": {
          "base_uri": "https://localhost:8080/"
        },
        "outputId": "6f22ed50-0c57-481e-f1d5-25f80031821f"
      },
      "source": [
        "learner.fit_onecycle(5e-5, 4)"
      ],
      "execution_count": 27,
      "outputs": [
        {
          "output_type": "stream",
          "text": [
            "\n",
            "\n",
            "begin training using onecycle policy with max lr of 5e-05...\n",
            "Epoch 1/4\n",
            "3334/3334 [==============================] - 1219s 366ms/step - loss: 0.6141 - accuracy: 0.6504 - val_loss: 0.5149 - val_accuracy: 0.7402\n",
            "Epoch 2/4\n",
            "3334/3334 [==============================] - 1217s 365ms/step - loss: 0.5095 - accuracy: 0.7409 - val_loss: 0.5133 - val_accuracy: 0.7342\n",
            "Epoch 3/4\n",
            "3334/3334 [==============================] - 1218s 365ms/step - loss: 0.3846 - accuracy: 0.8219 - val_loss: 0.4955 - val_accuracy: 0.7738\n",
            "Epoch 4/4\n",
            "3334/3334 [==============================] - 1218s 365ms/step - loss: 0.1987 - accuracy: 0.9154 - val_loss: 0.6012 - val_accuracy: 0.7828\n"
          ],
          "name": "stdout"
        },
        {
          "output_type": "execute_result",
          "data": {
            "text/plain": [
              "<tensorflow.python.keras.callbacks.History at 0x7f5ca381a208>"
            ]
          },
          "metadata": {
            "tags": []
          },
          "execution_count": 27
        }
      ]
    },
    {
      "cell_type": "markdown",
      "metadata": {
        "id": "SnXxc52KmdsT"
      },
      "source": [
        "Predictions"
      ]
    },
    {
      "cell_type": "code",
      "metadata": {
        "id": "XruXdXFMmvBc"
      },
      "source": [
        "predictor = ktrain.get_predictor(learner.model, preproc=t)"
      ],
      "execution_count": 28,
      "outputs": []
    },
    {
      "cell_type": "code",
      "metadata": {
        "id": "eNi8mwAFmUaw"
      },
      "source": [
        "db_preds = []\r\n",
        "i = 0\r\n",
        "while i <len(testsentences):\r\n",
        "  x1 = predictor.predict_proba(testsentences[i])\r\n",
        "  x2 = predictor.predict_proba(testsentences[i+1])\r\n",
        "  if x1[1]>x2[1] and x2[0]>x1[0]:\r\n",
        "    db_preds.append(1)\r\n",
        "  else:\r\n",
        "    db_preds.append(0)\r\n",
        "  i += 2"
      ],
      "execution_count": 29,
      "outputs": []
    },
    {
      "cell_type": "markdown",
      "metadata": {
        "id": "-0CS11iMm8Qj"
      },
      "source": [
        "Getting labels with majority voting"
      ]
    },
    {
      "cell_type": "code",
      "metadata": {
        "id": "BCSu7CJ-m7vA"
      },
      "source": [
        "output = []\r\n",
        "for i in range(len(testsentenceid)):\r\n",
        "  if db_preds[i] == bert_pred[i] == gpt_pred[i]:\r\n",
        "    output.append([testsentenceid[i],db_preds[i]])\r\n",
        "\r\n",
        "  elif db_preds[i] == bert_pred[i] and bert_pred[i] != gpt_pred[i]:\r\n",
        "    output.append([testsentenceid[i],db_preds[i]])\r\n",
        "  \r\n",
        "  elif db_preds[i] == gpt_pred[i] and db_preds[i] != bert_pred[i]:\r\n",
        "    output.append([testsentenceid[i],db_preds[i]])\r\n",
        "\r\n",
        "  elif gpt_pred[i] == bert_pred[i] and db_preds[i] != gpt_pred[i]:\r\n",
        "    output.append([testsentenceid[i],bert_pred[i]])"
      ],
      "execution_count": 30,
      "outputs": []
    },
    {
      "cell_type": "markdown",
      "metadata": {
        "id": "gZCaKnfGNSaU"
      },
      "source": [
        "###Accuracy for Bert and Distil Bert and all three combined"
      ]
    },
    {
      "cell_type": "code",
      "metadata": {
        "id": "9gi4Ea5eMPSF"
      },
      "source": [
        "df = pd.read_csv (r'SemEval2020-Task4-Commonsense-Validation-and-Explanation/''ALL data''/''Test Data''/subtaskA_gold_answers.csv', header = None)\r\n",
        "testl =  df.to_numpy()"
      ],
      "execution_count": 32,
      "outputs": []
    },
    {
      "cell_type": "code",
      "metadata": {
        "colab": {
          "base_uri": "https://localhost:8080/"
        },
        "id": "o9v9OoRlMkoB",
        "outputId": "7a82a327-293b-40e4-9aff-9f1eb4ac9a33"
      },
      "source": [
        "db_c = 0\r\n",
        "for i in range(1000):\r\n",
        "  if db_preds[i] == testl[i][1]:\r\n",
        "    db_c+=1\r\n",
        "print('DistilBert Accuracy:',db_c/1000*100,'%')"
      ],
      "execution_count": 33,
      "outputs": [
        {
          "output_type": "stream",
          "text": [
            "DistilBert Accuracy: 84.89999999999999 %\n"
          ],
          "name": "stdout"
        }
      ]
    },
    {
      "cell_type": "code",
      "metadata": {
        "colab": {
          "base_uri": "https://localhost:8080/"
        },
        "id": "J-z07QFTM6UO",
        "outputId": "15577275-11de-420d-e66b-24553024121b"
      },
      "source": [
        "bc = 0\r\n",
        "for i in range(1000):\r\n",
        "  if bert_pred[i] == testl[i][1]:\r\n",
        "    bc+=1\r\n",
        "print('Bert Accuracy:',bc/1000*100,'%')"
      ],
      "execution_count": 34,
      "outputs": [
        {
          "output_type": "stream",
          "text": [
            "Bert Accuracy: 83.2 %\n"
          ],
          "name": "stdout"
        }
      ]
    },
    {
      "cell_type": "code",
      "metadata": {
        "colab": {
          "base_uri": "https://localhost:8080/"
        },
        "id": "orWyDGG2MA6S",
        "outputId": "54d47182-1db1-4241-ba09-959d54aa391c"
      },
      "source": [
        "c = 0\r\n",
        "for i in range(1000):\r\n",
        "  if output[i][1] == testl[i][1]:\r\n",
        "    c+=1\r\n",
        "\r\n",
        "print('Overall Accuracy:',c/1000*100,'%')"
      ],
      "execution_count": 35,
      "outputs": [
        {
          "output_type": "stream",
          "text": [
            "Overall Accuracy: 87.2 %\n"
          ],
          "name": "stdout"
        }
      ]
    },
    {
      "cell_type": "markdown",
      "metadata": {
        "id": "4InOOTNk-1t6"
      },
      "source": [
        "Generate Output file"
      ]
    },
    {
      "cell_type": "code",
      "metadata": {
        "id": "qiZaaDYY-1LX"
      },
      "source": [
        "df = pd.DataFrame(output)\r\n",
        "df.to_csv('sample_data/subtaskA_answers.csv', index=False, header=False)"
      ],
      "execution_count": 36,
      "outputs": []
    },
    {
      "cell_type": "code",
      "metadata": {
        "colab": {
          "base_uri": "https://localhost:8080/",
          "height": 17
        },
        "id": "142-H9oPcBLV",
        "outputId": "6c2d3feb-17a5-45b3-d3c4-cd885aa3bffa"
      },
      "source": [
        "from google.colab import files\r\n",
        "files.download('sample_data/subtaskA_answers.csv') "
      ],
      "execution_count": 37,
      "outputs": [
        {
          "output_type": "display_data",
          "data": {
            "application/javascript": [
              "\n",
              "    async function download(id, filename, size) {\n",
              "      if (!google.colab.kernel.accessAllowed) {\n",
              "        return;\n",
              "      }\n",
              "      const div = document.createElement('div');\n",
              "      const label = document.createElement('label');\n",
              "      label.textContent = `Downloading \"${filename}\": `;\n",
              "      div.appendChild(label);\n",
              "      const progress = document.createElement('progress');\n",
              "      progress.max = size;\n",
              "      div.appendChild(progress);\n",
              "      document.body.appendChild(div);\n",
              "\n",
              "      const buffers = [];\n",
              "      let downloaded = 0;\n",
              "\n",
              "      const channel = await google.colab.kernel.comms.open(id);\n",
              "      // Send a message to notify the kernel that we're ready.\n",
              "      channel.send({})\n",
              "\n",
              "      for await (const message of channel.messages) {\n",
              "        // Send a message to notify the kernel that we're ready.\n",
              "        channel.send({})\n",
              "        if (message.buffers) {\n",
              "          for (const buffer of message.buffers) {\n",
              "            buffers.push(buffer);\n",
              "            downloaded += buffer.byteLength;\n",
              "            progress.value = downloaded;\n",
              "          }\n",
              "        }\n",
              "      }\n",
              "      const blob = new Blob(buffers, {type: 'application/binary'});\n",
              "      const a = document.createElement('a');\n",
              "      a.href = window.URL.createObjectURL(blob);\n",
              "      a.download = filename;\n",
              "      div.appendChild(a);\n",
              "      a.click();\n",
              "      div.remove();\n",
              "    }\n",
              "  "
            ],
            "text/plain": [
              "<IPython.core.display.Javascript object>"
            ]
          },
          "metadata": {
            "tags": []
          }
        },
        {
          "output_type": "display_data",
          "data": {
            "application/javascript": [
              "download(\"download_db192d60-f516-45c9-8d69-136ea844a415\", \"subtaskA_answers.csv\", 6429)"
            ],
            "text/plain": [
              "<IPython.core.display.Javascript object>"
            ]
          },
          "metadata": {
            "tags": []
          }
        }
      ]
    }
  ]
}